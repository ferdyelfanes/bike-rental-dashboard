{
  "cells": [
    {
      "cell_type": "markdown",
      "metadata": {
        "id": "H9wADwK78DCz"
      },
      "source": [
        "# Proyek Analisis Data: Bike Sharing\n",
        "- **Nama:** Ferdy Elfanes\n",
        "- **Email:** felfanes@gmail.com\n",
        "- **ID Dicoding:** ferdyelfanes"
      ]
    },
    {
      "cell_type": "markdown",
      "metadata": {
        "id": "eE0raob58DC0"
      },
      "source": [
        "## Menentukan Pertanyaan Bisnis"
      ]
    },
    {
      "cell_type": "markdown",
      "metadata": {
        "id": "GmQeQ5YF8DC0"
      },
      "source": [
        "- Bagaimana segmentasi pengguna sepeda berdasarkan pola peminjaman?\n",
        "- Bagaimana perilaku pelanggan berdasarkan Recency, Frequency, dan Monetary?\n",
        "- Bagaimana pengaruh cuaca dan musim terhadap jumlah peminjaman sepeda?\n",
        "- Apakah ada perbedaan pola peminjaman antara hari kerja dan akhir pekan?"
      ]
    },
    {
      "cell_type": "markdown",
      "metadata": {
        "id": "H-z4QGlO8DC1"
      },
      "source": [
        "## Import Semua Packages/Library yang Digunakan"
      ]
    },
    {
      "cell_type": "code",
      "execution_count": 4,
      "metadata": {
        "id": "FVYwaObI8DC1"
      },
      "outputs": [],
      "source": [
        "import pandas as pd\n",
        "import numpy as np\n",
        "import matplotlib.pyplot as plt\n",
        "import seaborn as sns\n",
        "from datetime import datetime"
      ]
    },
    {
      "cell_type": "markdown",
      "metadata": {
        "id": "h_Sh51Xy8DC1"
      },
      "source": [
        "## Data Wrangling"
      ]
    },
    {
      "cell_type": "markdown",
      "metadata": {
        "id": "sXU2GBYu8DC1"
      },
      "source": [
        "### Gathering Data"
      ]
    },
    {
      "cell_type": "code",
      "execution_count": 5,
      "metadata": {
        "id": "zjCBk1BI8DC1",
        "colab": {
          "base_uri": "https://localhost:8080/",
          "height": 476
        },
        "collapsed": true,
        "outputId": "eda83244-7658-4ec0-e25f-bf2712c1552e"
      },
      "outputs": [
        {
          "output_type": "display_data",
          "data": {
            "text/plain": [
              "   instant      dteday  season  yr  mnth  holiday  weekday  workingday  \\\n",
              "0        1  2011-01-01       1   0     1        0        6           0   \n",
              "1        2  2011-01-02       1   0     1        0        0           0   \n",
              "2        3  2011-01-03       1   0     1        0        1           1   \n",
              "3        4  2011-01-04       1   0     1        0        2           1   \n",
              "4        5  2011-01-05       1   0     1        0        3           1   \n",
              "\n",
              "   weathersit      temp     atemp       hum  windspeed  casual  registered  \\\n",
              "0           2  0.344167  0.363625  0.805833   0.160446     331         654   \n",
              "1           2  0.363478  0.353739  0.696087   0.248539     131         670   \n",
              "2           1  0.196364  0.189405  0.437273   0.248309     120        1229   \n",
              "3           1  0.200000  0.212122  0.590435   0.160296     108        1454   \n",
              "4           1  0.226957  0.229270  0.436957   0.186900      82        1518   \n",
              "\n",
              "    cnt  \n",
              "0   985  \n",
              "1   801  \n",
              "2  1349  \n",
              "3  1562  \n",
              "4  1600  "
            ],
            "text/html": [
              "\n",
              "  <div id=\"df-2f3be99b-78fe-4beb-b707-ae5b7d362ecb\" class=\"colab-df-container\">\n",
              "    <div>\n",
              "<style scoped>\n",
              "    .dataframe tbody tr th:only-of-type {\n",
              "        vertical-align: middle;\n",
              "    }\n",
              "\n",
              "    .dataframe tbody tr th {\n",
              "        vertical-align: top;\n",
              "    }\n",
              "\n",
              "    .dataframe thead th {\n",
              "        text-align: right;\n",
              "    }\n",
              "</style>\n",
              "<table border=\"1\" class=\"dataframe\">\n",
              "  <thead>\n",
              "    <tr style=\"text-align: right;\">\n",
              "      <th></th>\n",
              "      <th>instant</th>\n",
              "      <th>dteday</th>\n",
              "      <th>season</th>\n",
              "      <th>yr</th>\n",
              "      <th>mnth</th>\n",
              "      <th>holiday</th>\n",
              "      <th>weekday</th>\n",
              "      <th>workingday</th>\n",
              "      <th>weathersit</th>\n",
              "      <th>temp</th>\n",
              "      <th>atemp</th>\n",
              "      <th>hum</th>\n",
              "      <th>windspeed</th>\n",
              "      <th>casual</th>\n",
              "      <th>registered</th>\n",
              "      <th>cnt</th>\n",
              "    </tr>\n",
              "  </thead>\n",
              "  <tbody>\n",
              "    <tr>\n",
              "      <th>0</th>\n",
              "      <td>1</td>\n",
              "      <td>2011-01-01</td>\n",
              "      <td>1</td>\n",
              "      <td>0</td>\n",
              "      <td>1</td>\n",
              "      <td>0</td>\n",
              "      <td>6</td>\n",
              "      <td>0</td>\n",
              "      <td>2</td>\n",
              "      <td>0.344167</td>\n",
              "      <td>0.363625</td>\n",
              "      <td>0.805833</td>\n",
              "      <td>0.160446</td>\n",
              "      <td>331</td>\n",
              "      <td>654</td>\n",
              "      <td>985</td>\n",
              "    </tr>\n",
              "    <tr>\n",
              "      <th>1</th>\n",
              "      <td>2</td>\n",
              "      <td>2011-01-02</td>\n",
              "      <td>1</td>\n",
              "      <td>0</td>\n",
              "      <td>1</td>\n",
              "      <td>0</td>\n",
              "      <td>0</td>\n",
              "      <td>0</td>\n",
              "      <td>2</td>\n",
              "      <td>0.363478</td>\n",
              "      <td>0.353739</td>\n",
              "      <td>0.696087</td>\n",
              "      <td>0.248539</td>\n",
              "      <td>131</td>\n",
              "      <td>670</td>\n",
              "      <td>801</td>\n",
              "    </tr>\n",
              "    <tr>\n",
              "      <th>2</th>\n",
              "      <td>3</td>\n",
              "      <td>2011-01-03</td>\n",
              "      <td>1</td>\n",
              "      <td>0</td>\n",
              "      <td>1</td>\n",
              "      <td>0</td>\n",
              "      <td>1</td>\n",
              "      <td>1</td>\n",
              "      <td>1</td>\n",
              "      <td>0.196364</td>\n",
              "      <td>0.189405</td>\n",
              "      <td>0.437273</td>\n",
              "      <td>0.248309</td>\n",
              "      <td>120</td>\n",
              "      <td>1229</td>\n",
              "      <td>1349</td>\n",
              "    </tr>\n",
              "    <tr>\n",
              "      <th>3</th>\n",
              "      <td>4</td>\n",
              "      <td>2011-01-04</td>\n",
              "      <td>1</td>\n",
              "      <td>0</td>\n",
              "      <td>1</td>\n",
              "      <td>0</td>\n",
              "      <td>2</td>\n",
              "      <td>1</td>\n",
              "      <td>1</td>\n",
              "      <td>0.200000</td>\n",
              "      <td>0.212122</td>\n",
              "      <td>0.590435</td>\n",
              "      <td>0.160296</td>\n",
              "      <td>108</td>\n",
              "      <td>1454</td>\n",
              "      <td>1562</td>\n",
              "    </tr>\n",
              "    <tr>\n",
              "      <th>4</th>\n",
              "      <td>5</td>\n",
              "      <td>2011-01-05</td>\n",
              "      <td>1</td>\n",
              "      <td>0</td>\n",
              "      <td>1</td>\n",
              "      <td>0</td>\n",
              "      <td>3</td>\n",
              "      <td>1</td>\n",
              "      <td>1</td>\n",
              "      <td>0.226957</td>\n",
              "      <td>0.229270</td>\n",
              "      <td>0.436957</td>\n",
              "      <td>0.186900</td>\n",
              "      <td>82</td>\n",
              "      <td>1518</td>\n",
              "      <td>1600</td>\n",
              "    </tr>\n",
              "  </tbody>\n",
              "</table>\n",
              "</div>\n",
              "    <div class=\"colab-df-buttons\">\n",
              "\n",
              "  <div class=\"colab-df-container\">\n",
              "    <button class=\"colab-df-convert\" onclick=\"convertToInteractive('df-2f3be99b-78fe-4beb-b707-ae5b7d362ecb')\"\n",
              "            title=\"Convert this dataframe to an interactive table.\"\n",
              "            style=\"display:none;\">\n",
              "\n",
              "  <svg xmlns=\"http://www.w3.org/2000/svg\" height=\"24px\" viewBox=\"0 -960 960 960\">\n",
              "    <path d=\"M120-120v-720h720v720H120Zm60-500h600v-160H180v160Zm220 220h160v-160H400v160Zm0 220h160v-160H400v160ZM180-400h160v-160H180v160Zm440 0h160v-160H620v160ZM180-180h160v-160H180v160Zm440 0h160v-160H620v160Z\"/>\n",
              "  </svg>\n",
              "    </button>\n",
              "\n",
              "  <style>\n",
              "    .colab-df-container {\n",
              "      display:flex;\n",
              "      gap: 12px;\n",
              "    }\n",
              "\n",
              "    .colab-df-convert {\n",
              "      background-color: #E8F0FE;\n",
              "      border: none;\n",
              "      border-radius: 50%;\n",
              "      cursor: pointer;\n",
              "      display: none;\n",
              "      fill: #1967D2;\n",
              "      height: 32px;\n",
              "      padding: 0 0 0 0;\n",
              "      width: 32px;\n",
              "    }\n",
              "\n",
              "    .colab-df-convert:hover {\n",
              "      background-color: #E2EBFA;\n",
              "      box-shadow: 0px 1px 2px rgba(60, 64, 67, 0.3), 0px 1px 3px 1px rgba(60, 64, 67, 0.15);\n",
              "      fill: #174EA6;\n",
              "    }\n",
              "\n",
              "    .colab-df-buttons div {\n",
              "      margin-bottom: 4px;\n",
              "    }\n",
              "\n",
              "    [theme=dark] .colab-df-convert {\n",
              "      background-color: #3B4455;\n",
              "      fill: #D2E3FC;\n",
              "    }\n",
              "\n",
              "    [theme=dark] .colab-df-convert:hover {\n",
              "      background-color: #434B5C;\n",
              "      box-shadow: 0px 1px 3px 1px rgba(0, 0, 0, 0.15);\n",
              "      filter: drop-shadow(0px 1px 2px rgba(0, 0, 0, 0.3));\n",
              "      fill: #FFFFFF;\n",
              "    }\n",
              "  </style>\n",
              "\n",
              "    <script>\n",
              "      const buttonEl =\n",
              "        document.querySelector('#df-2f3be99b-78fe-4beb-b707-ae5b7d362ecb button.colab-df-convert');\n",
              "      buttonEl.style.display =\n",
              "        google.colab.kernel.accessAllowed ? 'block' : 'none';\n",
              "\n",
              "      async function convertToInteractive(key) {\n",
              "        const element = document.querySelector('#df-2f3be99b-78fe-4beb-b707-ae5b7d362ecb');\n",
              "        const dataTable =\n",
              "          await google.colab.kernel.invokeFunction('convertToInteractive',\n",
              "                                                    [key], {});\n",
              "        if (!dataTable) return;\n",
              "\n",
              "        const docLinkHtml = 'Like what you see? Visit the ' +\n",
              "          '<a target=\"_blank\" href=https://colab.research.google.com/notebooks/data_table.ipynb>data table notebook</a>'\n",
              "          + ' to learn more about interactive tables.';\n",
              "        element.innerHTML = '';\n",
              "        dataTable['output_type'] = 'display_data';\n",
              "        await google.colab.output.renderOutput(dataTable, element);\n",
              "        const docLink = document.createElement('div');\n",
              "        docLink.innerHTML = docLinkHtml;\n",
              "        element.appendChild(docLink);\n",
              "      }\n",
              "    </script>\n",
              "  </div>\n",
              "\n",
              "\n",
              "<div id=\"df-561d4932-f01f-4d6c-8ab5-93378a83e197\">\n",
              "  <button class=\"colab-df-quickchart\" onclick=\"quickchart('df-561d4932-f01f-4d6c-8ab5-93378a83e197')\"\n",
              "            title=\"Suggest charts\"\n",
              "            style=\"display:none;\">\n",
              "\n",
              "<svg xmlns=\"http://www.w3.org/2000/svg\" height=\"24px\"viewBox=\"0 0 24 24\"\n",
              "     width=\"24px\">\n",
              "    <g>\n",
              "        <path d=\"M19 3H5c-1.1 0-2 .9-2 2v14c0 1.1.9 2 2 2h14c1.1 0 2-.9 2-2V5c0-1.1-.9-2-2-2zM9 17H7v-7h2v7zm4 0h-2V7h2v10zm4 0h-2v-4h2v4z\"/>\n",
              "    </g>\n",
              "</svg>\n",
              "  </button>\n",
              "\n",
              "<style>\n",
              "  .colab-df-quickchart {\n",
              "      --bg-color: #E8F0FE;\n",
              "      --fill-color: #1967D2;\n",
              "      --hover-bg-color: #E2EBFA;\n",
              "      --hover-fill-color: #174EA6;\n",
              "      --disabled-fill-color: #AAA;\n",
              "      --disabled-bg-color: #DDD;\n",
              "  }\n",
              "\n",
              "  [theme=dark] .colab-df-quickchart {\n",
              "      --bg-color: #3B4455;\n",
              "      --fill-color: #D2E3FC;\n",
              "      --hover-bg-color: #434B5C;\n",
              "      --hover-fill-color: #FFFFFF;\n",
              "      --disabled-bg-color: #3B4455;\n",
              "      --disabled-fill-color: #666;\n",
              "  }\n",
              "\n",
              "  .colab-df-quickchart {\n",
              "    background-color: var(--bg-color);\n",
              "    border: none;\n",
              "    border-radius: 50%;\n",
              "    cursor: pointer;\n",
              "    display: none;\n",
              "    fill: var(--fill-color);\n",
              "    height: 32px;\n",
              "    padding: 0;\n",
              "    width: 32px;\n",
              "  }\n",
              "\n",
              "  .colab-df-quickchart:hover {\n",
              "    background-color: var(--hover-bg-color);\n",
              "    box-shadow: 0 1px 2px rgba(60, 64, 67, 0.3), 0 1px 3px 1px rgba(60, 64, 67, 0.15);\n",
              "    fill: var(--button-hover-fill-color);\n",
              "  }\n",
              "\n",
              "  .colab-df-quickchart-complete:disabled,\n",
              "  .colab-df-quickchart-complete:disabled:hover {\n",
              "    background-color: var(--disabled-bg-color);\n",
              "    fill: var(--disabled-fill-color);\n",
              "    box-shadow: none;\n",
              "  }\n",
              "\n",
              "  .colab-df-spinner {\n",
              "    border: 2px solid var(--fill-color);\n",
              "    border-color: transparent;\n",
              "    border-bottom-color: var(--fill-color);\n",
              "    animation:\n",
              "      spin 1s steps(1) infinite;\n",
              "  }\n",
              "\n",
              "  @keyframes spin {\n",
              "    0% {\n",
              "      border-color: transparent;\n",
              "      border-bottom-color: var(--fill-color);\n",
              "      border-left-color: var(--fill-color);\n",
              "    }\n",
              "    20% {\n",
              "      border-color: transparent;\n",
              "      border-left-color: var(--fill-color);\n",
              "      border-top-color: var(--fill-color);\n",
              "    }\n",
              "    30% {\n",
              "      border-color: transparent;\n",
              "      border-left-color: var(--fill-color);\n",
              "      border-top-color: var(--fill-color);\n",
              "      border-right-color: var(--fill-color);\n",
              "    }\n",
              "    40% {\n",
              "      border-color: transparent;\n",
              "      border-right-color: var(--fill-color);\n",
              "      border-top-color: var(--fill-color);\n",
              "    }\n",
              "    60% {\n",
              "      border-color: transparent;\n",
              "      border-right-color: var(--fill-color);\n",
              "    }\n",
              "    80% {\n",
              "      border-color: transparent;\n",
              "      border-right-color: var(--fill-color);\n",
              "      border-bottom-color: var(--fill-color);\n",
              "    }\n",
              "    90% {\n",
              "      border-color: transparent;\n",
              "      border-bottom-color: var(--fill-color);\n",
              "    }\n",
              "  }\n",
              "</style>\n",
              "\n",
              "  <script>\n",
              "    async function quickchart(key) {\n",
              "      const quickchartButtonEl =\n",
              "        document.querySelector('#' + key + ' button');\n",
              "      quickchartButtonEl.disabled = true;  // To prevent multiple clicks.\n",
              "      quickchartButtonEl.classList.add('colab-df-spinner');\n",
              "      try {\n",
              "        const charts = await google.colab.kernel.invokeFunction(\n",
              "            'suggestCharts', [key], {});\n",
              "      } catch (error) {\n",
              "        console.error('Error during call to suggestCharts:', error);\n",
              "      }\n",
              "      quickchartButtonEl.classList.remove('colab-df-spinner');\n",
              "      quickchartButtonEl.classList.add('colab-df-quickchart-complete');\n",
              "    }\n",
              "    (() => {\n",
              "      let quickchartButtonEl =\n",
              "        document.querySelector('#df-561d4932-f01f-4d6c-8ab5-93378a83e197 button');\n",
              "      quickchartButtonEl.style.display =\n",
              "        google.colab.kernel.accessAllowed ? 'block' : 'none';\n",
              "    })();\n",
              "  </script>\n",
              "</div>\n",
              "\n",
              "    </div>\n",
              "  </div>\n"
            ],
            "application/vnd.google.colaboratory.intrinsic+json": {
              "type": "dataframe",
              "summary": "{\n  \"name\": \"display(day_df\",\n  \"rows\": 5,\n  \"fields\": [\n    {\n      \"column\": \"instant\",\n      \"properties\": {\n        \"dtype\": \"number\",\n        \"std\": 1,\n        \"min\": 1,\n        \"max\": 5,\n        \"num_unique_values\": 5,\n        \"samples\": [\n          2,\n          5,\n          3\n        ],\n        \"semantic_type\": \"\",\n        \"description\": \"\"\n      }\n    },\n    {\n      \"column\": \"dteday\",\n      \"properties\": {\n        \"dtype\": \"object\",\n        \"num_unique_values\": 5,\n        \"samples\": [\n          \"2011-01-02\",\n          \"2011-01-05\",\n          \"2011-01-03\"\n        ],\n        \"semantic_type\": \"\",\n        \"description\": \"\"\n      }\n    },\n    {\n      \"column\": \"season\",\n      \"properties\": {\n        \"dtype\": \"number\",\n        \"std\": 0,\n        \"min\": 1,\n        \"max\": 1,\n        \"num_unique_values\": 1,\n        \"samples\": [\n          1\n        ],\n        \"semantic_type\": \"\",\n        \"description\": \"\"\n      }\n    },\n    {\n      \"column\": \"yr\",\n      \"properties\": {\n        \"dtype\": \"number\",\n        \"std\": 0,\n        \"min\": 0,\n        \"max\": 0,\n        \"num_unique_values\": 1,\n        \"samples\": [\n          0\n        ],\n        \"semantic_type\": \"\",\n        \"description\": \"\"\n      }\n    },\n    {\n      \"column\": \"mnth\",\n      \"properties\": {\n        \"dtype\": \"number\",\n        \"std\": 0,\n        \"min\": 1,\n        \"max\": 1,\n        \"num_unique_values\": 1,\n        \"samples\": [\n          1\n        ],\n        \"semantic_type\": \"\",\n        \"description\": \"\"\n      }\n    },\n    {\n      \"column\": \"holiday\",\n      \"properties\": {\n        \"dtype\": \"number\",\n        \"std\": 0,\n        \"min\": 0,\n        \"max\": 0,\n        \"num_unique_values\": 1,\n        \"samples\": [\n          0\n        ],\n        \"semantic_type\": \"\",\n        \"description\": \"\"\n      }\n    },\n    {\n      \"column\": \"weekday\",\n      \"properties\": {\n        \"dtype\": \"number\",\n        \"std\": 2,\n        \"min\": 0,\n        \"max\": 6,\n        \"num_unique_values\": 5,\n        \"samples\": [\n          0\n        ],\n        \"semantic_type\": \"\",\n        \"description\": \"\"\n      }\n    },\n    {\n      \"column\": \"workingday\",\n      \"properties\": {\n        \"dtype\": \"number\",\n        \"std\": 0,\n        \"min\": 0,\n        \"max\": 1,\n        \"num_unique_values\": 2,\n        \"samples\": [\n          1\n        ],\n        \"semantic_type\": \"\",\n        \"description\": \"\"\n      }\n    },\n    {\n      \"column\": \"weathersit\",\n      \"properties\": {\n        \"dtype\": \"number\",\n        \"std\": 0,\n        \"min\": 1,\n        \"max\": 2,\n        \"num_unique_values\": 2,\n        \"samples\": [\n          1\n        ],\n        \"semantic_type\": \"\",\n        \"description\": \"\"\n      }\n    },\n    {\n      \"column\": \"temp\",\n      \"properties\": {\n        \"dtype\": \"number\",\n        \"std\": 0.08115014184645644,\n        \"min\": 0.196364,\n        \"max\": 0.363478,\n        \"num_unique_values\": 5,\n        \"samples\": [\n          0.363478\n        ],\n        \"semantic_type\": \"\",\n        \"description\": \"\"\n      }\n    },\n    {\n      \"column\": \"atemp\",\n      \"properties\": {\n        \"dtype\": \"number\",\n        \"std\": 0.08258561341238557,\n        \"min\": 0.189405,\n        \"max\": 0.363625,\n        \"num_unique_values\": 5,\n        \"samples\": [\n          0.353739\n        ],\n        \"semantic_type\": \"\",\n        \"description\": \"\"\n      }\n    },\n    {\n      \"column\": \"hum\",\n      \"properties\": {\n        \"dtype\": \"number\",\n        \"std\": 0.16165643245475883,\n        \"min\": 0.436957,\n        \"max\": 0.805833,\n        \"num_unique_values\": 5,\n        \"samples\": [\n          0.696087\n        ],\n        \"semantic_type\": \"\",\n        \"description\": \"\"\n      }\n    },\n    {\n      \"column\": \"windspeed\",\n      \"properties\": {\n        \"dtype\": \"number\",\n        \"std\": 0.044716603499147835,\n        \"min\": 0.160296,\n        \"max\": 0.248539,\n        \"num_unique_values\": 5,\n        \"samples\": [\n          0.248539\n        ],\n        \"semantic_type\": \"\",\n        \"description\": \"\"\n      }\n    },\n    {\n      \"column\": \"casual\",\n      \"properties\": {\n        \"dtype\": \"number\",\n        \"std\": 100,\n        \"min\": 82,\n        \"max\": 331,\n        \"num_unique_values\": 5,\n        \"samples\": [\n          131\n        ],\n        \"semantic_type\": \"\",\n        \"description\": \"\"\n      }\n    },\n    {\n      \"column\": \"registered\",\n      \"properties\": {\n        \"dtype\": \"number\",\n        \"std\": 418,\n        \"min\": 654,\n        \"max\": 1518,\n        \"num_unique_values\": 5,\n        \"samples\": [\n          670\n        ],\n        \"semantic_type\": \"\",\n        \"description\": \"\"\n      }\n    },\n    {\n      \"column\": \"cnt\",\n      \"properties\": {\n        \"dtype\": \"number\",\n        \"std\": 353,\n        \"min\": 801,\n        \"max\": 1600,\n        \"num_unique_values\": 5,\n        \"samples\": [\n          801\n        ],\n        \"semantic_type\": \"\",\n        \"description\": \"\"\n      }\n    }\n  ]\n}"
            }
          },
          "metadata": {}
        },
        {
          "output_type": "display_data",
          "data": {
            "text/plain": [
              "   instant      dteday  season  yr  mnth  hr  holiday  weekday  workingday  \\\n",
              "0        1  2011-01-01       1   0     1   0        0        6           0   \n",
              "1        2  2011-01-01       1   0     1   1        0        6           0   \n",
              "2        3  2011-01-01       1   0     1   2        0        6           0   \n",
              "3        4  2011-01-01       1   0     1   3        0        6           0   \n",
              "4        5  2011-01-01       1   0     1   4        0        6           0   \n",
              "\n",
              "   weathersit  temp   atemp   hum  windspeed  casual  registered  cnt  \n",
              "0           1  0.24  0.2879  0.81        0.0       3          13   16  \n",
              "1           1  0.22  0.2727  0.80        0.0       8          32   40  \n",
              "2           1  0.22  0.2727  0.80        0.0       5          27   32  \n",
              "3           1  0.24  0.2879  0.75        0.0       3          10   13  \n",
              "4           1  0.24  0.2879  0.75        0.0       0           1    1  "
            ],
            "text/html": [
              "\n",
              "  <div id=\"df-08484b54-2c35-4de2-93cc-d22afe159469\" class=\"colab-df-container\">\n",
              "    <div>\n",
              "<style scoped>\n",
              "    .dataframe tbody tr th:only-of-type {\n",
              "        vertical-align: middle;\n",
              "    }\n",
              "\n",
              "    .dataframe tbody tr th {\n",
              "        vertical-align: top;\n",
              "    }\n",
              "\n",
              "    .dataframe thead th {\n",
              "        text-align: right;\n",
              "    }\n",
              "</style>\n",
              "<table border=\"1\" class=\"dataframe\">\n",
              "  <thead>\n",
              "    <tr style=\"text-align: right;\">\n",
              "      <th></th>\n",
              "      <th>instant</th>\n",
              "      <th>dteday</th>\n",
              "      <th>season</th>\n",
              "      <th>yr</th>\n",
              "      <th>mnth</th>\n",
              "      <th>hr</th>\n",
              "      <th>holiday</th>\n",
              "      <th>weekday</th>\n",
              "      <th>workingday</th>\n",
              "      <th>weathersit</th>\n",
              "      <th>temp</th>\n",
              "      <th>atemp</th>\n",
              "      <th>hum</th>\n",
              "      <th>windspeed</th>\n",
              "      <th>casual</th>\n",
              "      <th>registered</th>\n",
              "      <th>cnt</th>\n",
              "    </tr>\n",
              "  </thead>\n",
              "  <tbody>\n",
              "    <tr>\n",
              "      <th>0</th>\n",
              "      <td>1</td>\n",
              "      <td>2011-01-01</td>\n",
              "      <td>1</td>\n",
              "      <td>0</td>\n",
              "      <td>1</td>\n",
              "      <td>0</td>\n",
              "      <td>0</td>\n",
              "      <td>6</td>\n",
              "      <td>0</td>\n",
              "      <td>1</td>\n",
              "      <td>0.24</td>\n",
              "      <td>0.2879</td>\n",
              "      <td>0.81</td>\n",
              "      <td>0.0</td>\n",
              "      <td>3</td>\n",
              "      <td>13</td>\n",
              "      <td>16</td>\n",
              "    </tr>\n",
              "    <tr>\n",
              "      <th>1</th>\n",
              "      <td>2</td>\n",
              "      <td>2011-01-01</td>\n",
              "      <td>1</td>\n",
              "      <td>0</td>\n",
              "      <td>1</td>\n",
              "      <td>1</td>\n",
              "      <td>0</td>\n",
              "      <td>6</td>\n",
              "      <td>0</td>\n",
              "      <td>1</td>\n",
              "      <td>0.22</td>\n",
              "      <td>0.2727</td>\n",
              "      <td>0.80</td>\n",
              "      <td>0.0</td>\n",
              "      <td>8</td>\n",
              "      <td>32</td>\n",
              "      <td>40</td>\n",
              "    </tr>\n",
              "    <tr>\n",
              "      <th>2</th>\n",
              "      <td>3</td>\n",
              "      <td>2011-01-01</td>\n",
              "      <td>1</td>\n",
              "      <td>0</td>\n",
              "      <td>1</td>\n",
              "      <td>2</td>\n",
              "      <td>0</td>\n",
              "      <td>6</td>\n",
              "      <td>0</td>\n",
              "      <td>1</td>\n",
              "      <td>0.22</td>\n",
              "      <td>0.2727</td>\n",
              "      <td>0.80</td>\n",
              "      <td>0.0</td>\n",
              "      <td>5</td>\n",
              "      <td>27</td>\n",
              "      <td>32</td>\n",
              "    </tr>\n",
              "    <tr>\n",
              "      <th>3</th>\n",
              "      <td>4</td>\n",
              "      <td>2011-01-01</td>\n",
              "      <td>1</td>\n",
              "      <td>0</td>\n",
              "      <td>1</td>\n",
              "      <td>3</td>\n",
              "      <td>0</td>\n",
              "      <td>6</td>\n",
              "      <td>0</td>\n",
              "      <td>1</td>\n",
              "      <td>0.24</td>\n",
              "      <td>0.2879</td>\n",
              "      <td>0.75</td>\n",
              "      <td>0.0</td>\n",
              "      <td>3</td>\n",
              "      <td>10</td>\n",
              "      <td>13</td>\n",
              "    </tr>\n",
              "    <tr>\n",
              "      <th>4</th>\n",
              "      <td>5</td>\n",
              "      <td>2011-01-01</td>\n",
              "      <td>1</td>\n",
              "      <td>0</td>\n",
              "      <td>1</td>\n",
              "      <td>4</td>\n",
              "      <td>0</td>\n",
              "      <td>6</td>\n",
              "      <td>0</td>\n",
              "      <td>1</td>\n",
              "      <td>0.24</td>\n",
              "      <td>0.2879</td>\n",
              "      <td>0.75</td>\n",
              "      <td>0.0</td>\n",
              "      <td>0</td>\n",
              "      <td>1</td>\n",
              "      <td>1</td>\n",
              "    </tr>\n",
              "  </tbody>\n",
              "</table>\n",
              "</div>\n",
              "    <div class=\"colab-df-buttons\">\n",
              "\n",
              "  <div class=\"colab-df-container\">\n",
              "    <button class=\"colab-df-convert\" onclick=\"convertToInteractive('df-08484b54-2c35-4de2-93cc-d22afe159469')\"\n",
              "            title=\"Convert this dataframe to an interactive table.\"\n",
              "            style=\"display:none;\">\n",
              "\n",
              "  <svg xmlns=\"http://www.w3.org/2000/svg\" height=\"24px\" viewBox=\"0 -960 960 960\">\n",
              "    <path d=\"M120-120v-720h720v720H120Zm60-500h600v-160H180v160Zm220 220h160v-160H400v160Zm0 220h160v-160H400v160ZM180-400h160v-160H180v160Zm440 0h160v-160H620v160ZM180-180h160v-160H180v160Zm440 0h160v-160H620v160Z\"/>\n",
              "  </svg>\n",
              "    </button>\n",
              "\n",
              "  <style>\n",
              "    .colab-df-container {\n",
              "      display:flex;\n",
              "      gap: 12px;\n",
              "    }\n",
              "\n",
              "    .colab-df-convert {\n",
              "      background-color: #E8F0FE;\n",
              "      border: none;\n",
              "      border-radius: 50%;\n",
              "      cursor: pointer;\n",
              "      display: none;\n",
              "      fill: #1967D2;\n",
              "      height: 32px;\n",
              "      padding: 0 0 0 0;\n",
              "      width: 32px;\n",
              "    }\n",
              "\n",
              "    .colab-df-convert:hover {\n",
              "      background-color: #E2EBFA;\n",
              "      box-shadow: 0px 1px 2px rgba(60, 64, 67, 0.3), 0px 1px 3px 1px rgba(60, 64, 67, 0.15);\n",
              "      fill: #174EA6;\n",
              "    }\n",
              "\n",
              "    .colab-df-buttons div {\n",
              "      margin-bottom: 4px;\n",
              "    }\n",
              "\n",
              "    [theme=dark] .colab-df-convert {\n",
              "      background-color: #3B4455;\n",
              "      fill: #D2E3FC;\n",
              "    }\n",
              "\n",
              "    [theme=dark] .colab-df-convert:hover {\n",
              "      background-color: #434B5C;\n",
              "      box-shadow: 0px 1px 3px 1px rgba(0, 0, 0, 0.15);\n",
              "      filter: drop-shadow(0px 1px 2px rgba(0, 0, 0, 0.3));\n",
              "      fill: #FFFFFF;\n",
              "    }\n",
              "  </style>\n",
              "\n",
              "    <script>\n",
              "      const buttonEl =\n",
              "        document.querySelector('#df-08484b54-2c35-4de2-93cc-d22afe159469 button.colab-df-convert');\n",
              "      buttonEl.style.display =\n",
              "        google.colab.kernel.accessAllowed ? 'block' : 'none';\n",
              "\n",
              "      async function convertToInteractive(key) {\n",
              "        const element = document.querySelector('#df-08484b54-2c35-4de2-93cc-d22afe159469');\n",
              "        const dataTable =\n",
              "          await google.colab.kernel.invokeFunction('convertToInteractive',\n",
              "                                                    [key], {});\n",
              "        if (!dataTable) return;\n",
              "\n",
              "        const docLinkHtml = 'Like what you see? Visit the ' +\n",
              "          '<a target=\"_blank\" href=https://colab.research.google.com/notebooks/data_table.ipynb>data table notebook</a>'\n",
              "          + ' to learn more about interactive tables.';\n",
              "        element.innerHTML = '';\n",
              "        dataTable['output_type'] = 'display_data';\n",
              "        await google.colab.output.renderOutput(dataTable, element);\n",
              "        const docLink = document.createElement('div');\n",
              "        docLink.innerHTML = docLinkHtml;\n",
              "        element.appendChild(docLink);\n",
              "      }\n",
              "    </script>\n",
              "  </div>\n",
              "\n",
              "\n",
              "<div id=\"df-441aa141-1fce-4896-964a-78508767f762\">\n",
              "  <button class=\"colab-df-quickchart\" onclick=\"quickchart('df-441aa141-1fce-4896-964a-78508767f762')\"\n",
              "            title=\"Suggest charts\"\n",
              "            style=\"display:none;\">\n",
              "\n",
              "<svg xmlns=\"http://www.w3.org/2000/svg\" height=\"24px\"viewBox=\"0 0 24 24\"\n",
              "     width=\"24px\">\n",
              "    <g>\n",
              "        <path d=\"M19 3H5c-1.1 0-2 .9-2 2v14c0 1.1.9 2 2 2h14c1.1 0 2-.9 2-2V5c0-1.1-.9-2-2-2zM9 17H7v-7h2v7zm4 0h-2V7h2v10zm4 0h-2v-4h2v4z\"/>\n",
              "    </g>\n",
              "</svg>\n",
              "  </button>\n",
              "\n",
              "<style>\n",
              "  .colab-df-quickchart {\n",
              "      --bg-color: #E8F0FE;\n",
              "      --fill-color: #1967D2;\n",
              "      --hover-bg-color: #E2EBFA;\n",
              "      --hover-fill-color: #174EA6;\n",
              "      --disabled-fill-color: #AAA;\n",
              "      --disabled-bg-color: #DDD;\n",
              "  }\n",
              "\n",
              "  [theme=dark] .colab-df-quickchart {\n",
              "      --bg-color: #3B4455;\n",
              "      --fill-color: #D2E3FC;\n",
              "      --hover-bg-color: #434B5C;\n",
              "      --hover-fill-color: #FFFFFF;\n",
              "      --disabled-bg-color: #3B4455;\n",
              "      --disabled-fill-color: #666;\n",
              "  }\n",
              "\n",
              "  .colab-df-quickchart {\n",
              "    background-color: var(--bg-color);\n",
              "    border: none;\n",
              "    border-radius: 50%;\n",
              "    cursor: pointer;\n",
              "    display: none;\n",
              "    fill: var(--fill-color);\n",
              "    height: 32px;\n",
              "    padding: 0;\n",
              "    width: 32px;\n",
              "  }\n",
              "\n",
              "  .colab-df-quickchart:hover {\n",
              "    background-color: var(--hover-bg-color);\n",
              "    box-shadow: 0 1px 2px rgba(60, 64, 67, 0.3), 0 1px 3px 1px rgba(60, 64, 67, 0.15);\n",
              "    fill: var(--button-hover-fill-color);\n",
              "  }\n",
              "\n",
              "  .colab-df-quickchart-complete:disabled,\n",
              "  .colab-df-quickchart-complete:disabled:hover {\n",
              "    background-color: var(--disabled-bg-color);\n",
              "    fill: var(--disabled-fill-color);\n",
              "    box-shadow: none;\n",
              "  }\n",
              "\n",
              "  .colab-df-spinner {\n",
              "    border: 2px solid var(--fill-color);\n",
              "    border-color: transparent;\n",
              "    border-bottom-color: var(--fill-color);\n",
              "    animation:\n",
              "      spin 1s steps(1) infinite;\n",
              "  }\n",
              "\n",
              "  @keyframes spin {\n",
              "    0% {\n",
              "      border-color: transparent;\n",
              "      border-bottom-color: var(--fill-color);\n",
              "      border-left-color: var(--fill-color);\n",
              "    }\n",
              "    20% {\n",
              "      border-color: transparent;\n",
              "      border-left-color: var(--fill-color);\n",
              "      border-top-color: var(--fill-color);\n",
              "    }\n",
              "    30% {\n",
              "      border-color: transparent;\n",
              "      border-left-color: var(--fill-color);\n",
              "      border-top-color: var(--fill-color);\n",
              "      border-right-color: var(--fill-color);\n",
              "    }\n",
              "    40% {\n",
              "      border-color: transparent;\n",
              "      border-right-color: var(--fill-color);\n",
              "      border-top-color: var(--fill-color);\n",
              "    }\n",
              "    60% {\n",
              "      border-color: transparent;\n",
              "      border-right-color: var(--fill-color);\n",
              "    }\n",
              "    80% {\n",
              "      border-color: transparent;\n",
              "      border-right-color: var(--fill-color);\n",
              "      border-bottom-color: var(--fill-color);\n",
              "    }\n",
              "    90% {\n",
              "      border-color: transparent;\n",
              "      border-bottom-color: var(--fill-color);\n",
              "    }\n",
              "  }\n",
              "</style>\n",
              "\n",
              "  <script>\n",
              "    async function quickchart(key) {\n",
              "      const quickchartButtonEl =\n",
              "        document.querySelector('#' + key + ' button');\n",
              "      quickchartButtonEl.disabled = true;  // To prevent multiple clicks.\n",
              "      quickchartButtonEl.classList.add('colab-df-spinner');\n",
              "      try {\n",
              "        const charts = await google.colab.kernel.invokeFunction(\n",
              "            'suggestCharts', [key], {});\n",
              "      } catch (error) {\n",
              "        console.error('Error during call to suggestCharts:', error);\n",
              "      }\n",
              "      quickchartButtonEl.classList.remove('colab-df-spinner');\n",
              "      quickchartButtonEl.classList.add('colab-df-quickchart-complete');\n",
              "    }\n",
              "    (() => {\n",
              "      let quickchartButtonEl =\n",
              "        document.querySelector('#df-441aa141-1fce-4896-964a-78508767f762 button');\n",
              "      quickchartButtonEl.style.display =\n",
              "        google.colab.kernel.accessAllowed ? 'block' : 'none';\n",
              "    })();\n",
              "  </script>\n",
              "</div>\n",
              "\n",
              "    </div>\n",
              "  </div>\n"
            ],
            "application/vnd.google.colaboratory.intrinsic+json": {
              "type": "dataframe",
              "summary": "{\n  \"name\": \"display(day_df\",\n  \"rows\": 5,\n  \"fields\": [\n    {\n      \"column\": \"instant\",\n      \"properties\": {\n        \"dtype\": \"number\",\n        \"std\": 1,\n        \"min\": 1,\n        \"max\": 5,\n        \"num_unique_values\": 5,\n        \"samples\": [\n          2,\n          5,\n          3\n        ],\n        \"semantic_type\": \"\",\n        \"description\": \"\"\n      }\n    },\n    {\n      \"column\": \"dteday\",\n      \"properties\": {\n        \"dtype\": \"object\",\n        \"num_unique_values\": 1,\n        \"samples\": [\n          \"2011-01-01\"\n        ],\n        \"semantic_type\": \"\",\n        \"description\": \"\"\n      }\n    },\n    {\n      \"column\": \"season\",\n      \"properties\": {\n        \"dtype\": \"number\",\n        \"std\": 0,\n        \"min\": 1,\n        \"max\": 1,\n        \"num_unique_values\": 1,\n        \"samples\": [\n          1\n        ],\n        \"semantic_type\": \"\",\n        \"description\": \"\"\n      }\n    },\n    {\n      \"column\": \"yr\",\n      \"properties\": {\n        \"dtype\": \"number\",\n        \"std\": 0,\n        \"min\": 0,\n        \"max\": 0,\n        \"num_unique_values\": 1,\n        \"samples\": [\n          0\n        ],\n        \"semantic_type\": \"\",\n        \"description\": \"\"\n      }\n    },\n    {\n      \"column\": \"mnth\",\n      \"properties\": {\n        \"dtype\": \"number\",\n        \"std\": 0,\n        \"min\": 1,\n        \"max\": 1,\n        \"num_unique_values\": 1,\n        \"samples\": [\n          1\n        ],\n        \"semantic_type\": \"\",\n        \"description\": \"\"\n      }\n    },\n    {\n      \"column\": \"hr\",\n      \"properties\": {\n        \"dtype\": \"number\",\n        \"std\": 1,\n        \"min\": 0,\n        \"max\": 4,\n        \"num_unique_values\": 5,\n        \"samples\": [\n          1\n        ],\n        \"semantic_type\": \"\",\n        \"description\": \"\"\n      }\n    },\n    {\n      \"column\": \"holiday\",\n      \"properties\": {\n        \"dtype\": \"number\",\n        \"std\": 0,\n        \"min\": 0,\n        \"max\": 0,\n        \"num_unique_values\": 1,\n        \"samples\": [\n          0\n        ],\n        \"semantic_type\": \"\",\n        \"description\": \"\"\n      }\n    },\n    {\n      \"column\": \"weekday\",\n      \"properties\": {\n        \"dtype\": \"number\",\n        \"std\": 0,\n        \"min\": 6,\n        \"max\": 6,\n        \"num_unique_values\": 1,\n        \"samples\": [\n          6\n        ],\n        \"semantic_type\": \"\",\n        \"description\": \"\"\n      }\n    },\n    {\n      \"column\": \"workingday\",\n      \"properties\": {\n        \"dtype\": \"number\",\n        \"std\": 0,\n        \"min\": 0,\n        \"max\": 0,\n        \"num_unique_values\": 1,\n        \"samples\": [\n          0\n        ],\n        \"semantic_type\": \"\",\n        \"description\": \"\"\n      }\n    },\n    {\n      \"column\": \"weathersit\",\n      \"properties\": {\n        \"dtype\": \"number\",\n        \"std\": 0,\n        \"min\": 1,\n        \"max\": 1,\n        \"num_unique_values\": 1,\n        \"samples\": [\n          1\n        ],\n        \"semantic_type\": \"\",\n        \"description\": \"\"\n      }\n    },\n    {\n      \"column\": \"temp\",\n      \"properties\": {\n        \"dtype\": \"number\",\n        \"std\": 0.010954451150103317,\n        \"min\": 0.22,\n        \"max\": 0.24,\n        \"num_unique_values\": 2,\n        \"samples\": [\n          0.22\n        ],\n        \"semantic_type\": \"\",\n        \"description\": \"\"\n      }\n    },\n    {\n      \"column\": \"atemp\",\n      \"properties\": {\n        \"dtype\": \"number\",\n        \"std\": 0.00832538287407852,\n        \"min\": 0.2727,\n        \"max\": 0.2879,\n        \"num_unique_values\": 2,\n        \"samples\": [\n          0.2727\n        ],\n        \"semantic_type\": \"\",\n        \"description\": \"\"\n      }\n    },\n    {\n      \"column\": \"hum\",\n      \"properties\": {\n        \"dtype\": \"number\",\n        \"std\": 0.029495762407505278,\n        \"min\": 0.75,\n        \"max\": 0.81,\n        \"num_unique_values\": 3,\n        \"samples\": [\n          0.81\n        ],\n        \"semantic_type\": \"\",\n        \"description\": \"\"\n      }\n    },\n    {\n      \"column\": \"windspeed\",\n      \"properties\": {\n        \"dtype\": \"number\",\n        \"std\": 0.0,\n        \"min\": 0.0,\n        \"max\": 0.0,\n        \"num_unique_values\": 1,\n        \"samples\": [\n          0.0\n        ],\n        \"semantic_type\": \"\",\n        \"description\": \"\"\n      }\n    },\n    {\n      \"column\": \"casual\",\n      \"properties\": {\n        \"dtype\": \"number\",\n        \"std\": 2,\n        \"min\": 0,\n        \"max\": 8,\n        \"num_unique_values\": 4,\n        \"samples\": [\n          8\n        ],\n        \"semantic_type\": \"\",\n        \"description\": \"\"\n      }\n    },\n    {\n      \"column\": \"registered\",\n      \"properties\": {\n        \"dtype\": \"number\",\n        \"std\": 12,\n        \"min\": 1,\n        \"max\": 32,\n        \"num_unique_values\": 5,\n        \"samples\": [\n          32\n        ],\n        \"semantic_type\": \"\",\n        \"description\": \"\"\n      }\n    },\n    {\n      \"column\": \"cnt\",\n      \"properties\": {\n        \"dtype\": \"number\",\n        \"std\": 15,\n        \"min\": 1,\n        \"max\": 40,\n        \"num_unique_values\": 5,\n        \"samples\": [\n          40\n        ],\n        \"semantic_type\": \"\",\n        \"description\": \"\"\n      }\n    }\n  ]\n}"
            }
          },
          "metadata": {}
        }
      ],
      "source": [
        "# Load dataset day.csv dan hour.csv\n",
        "day_df = pd.read_csv('day.csv')\n",
        "hour_df = pd.read_csv('hour.csv')\n",
        "\n",
        "# Menampilkan 5 baris pertama dari kedua dataset\n",
        "display(day_df.head(), hour_df.head())\n"
      ]
    },
    {
      "cell_type": "markdown",
      "source": [
        "**Insight:**\n",
        "- Dataset `day.csv` berisi data harian dari sewa sepeda, sedangkan `hour.csv` berisi data per jam dari sewa sepeda.\n",
        "- Terdapat beberapa kategori seperti `season`, `weathersit`, `weekday` dan `workingday`.\n",
        "- kolom `cnt` merupakan total jumlah penyewa sepeda dari pertambahan antara kolom `casual` dan `registered`\n",
        "\n"
      ],
      "metadata": {
        "id": "MMi6xGaDkbCi"
      }
    },
    {
      "cell_type": "markdown",
      "metadata": {
        "id": "FHSiqaZp8DC1"
      },
      "source": [
        "### Assessing Data"
      ]
    },
    {
      "cell_type": "markdown",
      "source": [
        "#### Menilai tabel `day_df`"
      ],
      "metadata": {
        "id": "855HfLNCoCIT"
      }
    },
    {
      "cell_type": "code",
      "source": [
        "day_df.isnull().sum()"
      ],
      "metadata": {
        "id": "ax-3tEjc9Cj1",
        "colab": {
          "base_uri": "https://localhost:8080/",
          "height": 616
        },
        "collapsed": true,
        "outputId": "a2b67835-0b1b-4a71-8b96-b80715b52cdc"
      },
      "execution_count": 6,
      "outputs": [
        {
          "output_type": "execute_result",
          "data": {
            "text/plain": [
              "instant       0\n",
              "dteday        0\n",
              "season        0\n",
              "yr            0\n",
              "mnth          0\n",
              "holiday       0\n",
              "weekday       0\n",
              "workingday    0\n",
              "weathersit    0\n",
              "temp          0\n",
              "atemp         0\n",
              "hum           0\n",
              "windspeed     0\n",
              "casual        0\n",
              "registered    0\n",
              "cnt           0\n",
              "dtype: int64"
            ],
            "text/html": [
              "<div>\n",
              "<style scoped>\n",
              "    .dataframe tbody tr th:only-of-type {\n",
              "        vertical-align: middle;\n",
              "    }\n",
              "\n",
              "    .dataframe tbody tr th {\n",
              "        vertical-align: top;\n",
              "    }\n",
              "\n",
              "    .dataframe thead th {\n",
              "        text-align: right;\n",
              "    }\n",
              "</style>\n",
              "<table border=\"1\" class=\"dataframe\">\n",
              "  <thead>\n",
              "    <tr style=\"text-align: right;\">\n",
              "      <th></th>\n",
              "      <th>0</th>\n",
              "    </tr>\n",
              "  </thead>\n",
              "  <tbody>\n",
              "    <tr>\n",
              "      <th>instant</th>\n",
              "      <td>0</td>\n",
              "    </tr>\n",
              "    <tr>\n",
              "      <th>dteday</th>\n",
              "      <td>0</td>\n",
              "    </tr>\n",
              "    <tr>\n",
              "      <th>season</th>\n",
              "      <td>0</td>\n",
              "    </tr>\n",
              "    <tr>\n",
              "      <th>yr</th>\n",
              "      <td>0</td>\n",
              "    </tr>\n",
              "    <tr>\n",
              "      <th>mnth</th>\n",
              "      <td>0</td>\n",
              "    </tr>\n",
              "    <tr>\n",
              "      <th>holiday</th>\n",
              "      <td>0</td>\n",
              "    </tr>\n",
              "    <tr>\n",
              "      <th>weekday</th>\n",
              "      <td>0</td>\n",
              "    </tr>\n",
              "    <tr>\n",
              "      <th>workingday</th>\n",
              "      <td>0</td>\n",
              "    </tr>\n",
              "    <tr>\n",
              "      <th>weathersit</th>\n",
              "      <td>0</td>\n",
              "    </tr>\n",
              "    <tr>\n",
              "      <th>temp</th>\n",
              "      <td>0</td>\n",
              "    </tr>\n",
              "    <tr>\n",
              "      <th>atemp</th>\n",
              "      <td>0</td>\n",
              "    </tr>\n",
              "    <tr>\n",
              "      <th>hum</th>\n",
              "      <td>0</td>\n",
              "    </tr>\n",
              "    <tr>\n",
              "      <th>windspeed</th>\n",
              "      <td>0</td>\n",
              "    </tr>\n",
              "    <tr>\n",
              "      <th>casual</th>\n",
              "      <td>0</td>\n",
              "    </tr>\n",
              "    <tr>\n",
              "      <th>registered</th>\n",
              "      <td>0</td>\n",
              "    </tr>\n",
              "    <tr>\n",
              "      <th>cnt</th>\n",
              "      <td>0</td>\n",
              "    </tr>\n",
              "  </tbody>\n",
              "</table>\n",
              "</div><br><label><b>dtype:</b> int64</label>"
            ]
          },
          "metadata": {},
          "execution_count": 6
        }
      ]
    },
    {
      "cell_type": "code",
      "source": [
        "day_df.duplicated().sum()"
      ],
      "metadata": {
        "colab": {
          "base_uri": "https://localhost:8080/"
        },
        "collapsed": true,
        "id": "ta7-Rm_ro0wk",
        "outputId": "f0159901-d357-4d28-b5b1-10cbdd0d113f"
      },
      "execution_count": 7,
      "outputs": [
        {
          "output_type": "execute_result",
          "data": {
            "text/plain": [
              "0"
            ]
          },
          "metadata": {},
          "execution_count": 7
        }
      ]
    },
    {
      "cell_type": "code",
      "source": [
        "day_df.dtypes"
      ],
      "metadata": {
        "colab": {
          "base_uri": "https://localhost:8080/",
          "height": 616
        },
        "collapsed": true,
        "id": "Y1EqhB8qo4dp",
        "outputId": "a8fbbe6f-7d8b-4300-8679-778095477435"
      },
      "execution_count": 8,
      "outputs": [
        {
          "output_type": "execute_result",
          "data": {
            "text/plain": [
              "instant         int64\n",
              "dteday         object\n",
              "season          int64\n",
              "yr              int64\n",
              "mnth            int64\n",
              "holiday         int64\n",
              "weekday         int64\n",
              "workingday      int64\n",
              "weathersit      int64\n",
              "temp          float64\n",
              "atemp         float64\n",
              "hum           float64\n",
              "windspeed     float64\n",
              "casual          int64\n",
              "registered      int64\n",
              "cnt             int64\n",
              "dtype: object"
            ],
            "text/html": [
              "<div>\n",
              "<style scoped>\n",
              "    .dataframe tbody tr th:only-of-type {\n",
              "        vertical-align: middle;\n",
              "    }\n",
              "\n",
              "    .dataframe tbody tr th {\n",
              "        vertical-align: top;\n",
              "    }\n",
              "\n",
              "    .dataframe thead th {\n",
              "        text-align: right;\n",
              "    }\n",
              "</style>\n",
              "<table border=\"1\" class=\"dataframe\">\n",
              "  <thead>\n",
              "    <tr style=\"text-align: right;\">\n",
              "      <th></th>\n",
              "      <th>0</th>\n",
              "    </tr>\n",
              "  </thead>\n",
              "  <tbody>\n",
              "    <tr>\n",
              "      <th>instant</th>\n",
              "      <td>int64</td>\n",
              "    </tr>\n",
              "    <tr>\n",
              "      <th>dteday</th>\n",
              "      <td>object</td>\n",
              "    </tr>\n",
              "    <tr>\n",
              "      <th>season</th>\n",
              "      <td>int64</td>\n",
              "    </tr>\n",
              "    <tr>\n",
              "      <th>yr</th>\n",
              "      <td>int64</td>\n",
              "    </tr>\n",
              "    <tr>\n",
              "      <th>mnth</th>\n",
              "      <td>int64</td>\n",
              "    </tr>\n",
              "    <tr>\n",
              "      <th>holiday</th>\n",
              "      <td>int64</td>\n",
              "    </tr>\n",
              "    <tr>\n",
              "      <th>weekday</th>\n",
              "      <td>int64</td>\n",
              "    </tr>\n",
              "    <tr>\n",
              "      <th>workingday</th>\n",
              "      <td>int64</td>\n",
              "    </tr>\n",
              "    <tr>\n",
              "      <th>weathersit</th>\n",
              "      <td>int64</td>\n",
              "    </tr>\n",
              "    <tr>\n",
              "      <th>temp</th>\n",
              "      <td>float64</td>\n",
              "    </tr>\n",
              "    <tr>\n",
              "      <th>atemp</th>\n",
              "      <td>float64</td>\n",
              "    </tr>\n",
              "    <tr>\n",
              "      <th>hum</th>\n",
              "      <td>float64</td>\n",
              "    </tr>\n",
              "    <tr>\n",
              "      <th>windspeed</th>\n",
              "      <td>float64</td>\n",
              "    </tr>\n",
              "    <tr>\n",
              "      <th>casual</th>\n",
              "      <td>int64</td>\n",
              "    </tr>\n",
              "    <tr>\n",
              "      <th>registered</th>\n",
              "      <td>int64</td>\n",
              "    </tr>\n",
              "    <tr>\n",
              "      <th>cnt</th>\n",
              "      <td>int64</td>\n",
              "    </tr>\n",
              "  </tbody>\n",
              "</table>\n",
              "</div><br><label><b>dtype:</b> object</label>"
            ]
          },
          "metadata": {},
          "execution_count": 8
        }
      ]
    },
    {
      "cell_type": "markdown",
      "source": [
        "**Insight:**\n",
        "- Tidak terdapat missing value dan duplikasi pada tabel `day_df`\n",
        "- Kolom `dteday` masih dalam format string, oleh karena itu perlu dikonversi ke datetime"
      ],
      "metadata": {
        "id": "7dtxhAPrkhPL"
      }
    },
    {
      "cell_type": "markdown",
      "source": [
        "#### Menilai tabel `hour.csv`"
      ],
      "metadata": {
        "id": "msC6dwbsp-ck"
      }
    },
    {
      "cell_type": "code",
      "source": [
        "hour_df.isnull().sum()"
      ],
      "metadata": {
        "colab": {
          "base_uri": "https://localhost:8080/",
          "height": 647
        },
        "collapsed": true,
        "id": "icmaYAkpsxV0",
        "outputId": "2c0827fc-db43-47c8-ba3c-7f34084f64e2"
      },
      "execution_count": 9,
      "outputs": [
        {
          "output_type": "execute_result",
          "data": {
            "text/plain": [
              "instant       0\n",
              "dteday        0\n",
              "season        0\n",
              "yr            0\n",
              "mnth          0\n",
              "hr            0\n",
              "holiday       0\n",
              "weekday       0\n",
              "workingday    0\n",
              "weathersit    0\n",
              "temp          0\n",
              "atemp         0\n",
              "hum           0\n",
              "windspeed     0\n",
              "casual        0\n",
              "registered    0\n",
              "cnt           0\n",
              "dtype: int64"
            ],
            "text/html": [
              "<div>\n",
              "<style scoped>\n",
              "    .dataframe tbody tr th:only-of-type {\n",
              "        vertical-align: middle;\n",
              "    }\n",
              "\n",
              "    .dataframe tbody tr th {\n",
              "        vertical-align: top;\n",
              "    }\n",
              "\n",
              "    .dataframe thead th {\n",
              "        text-align: right;\n",
              "    }\n",
              "</style>\n",
              "<table border=\"1\" class=\"dataframe\">\n",
              "  <thead>\n",
              "    <tr style=\"text-align: right;\">\n",
              "      <th></th>\n",
              "      <th>0</th>\n",
              "    </tr>\n",
              "  </thead>\n",
              "  <tbody>\n",
              "    <tr>\n",
              "      <th>instant</th>\n",
              "      <td>0</td>\n",
              "    </tr>\n",
              "    <tr>\n",
              "      <th>dteday</th>\n",
              "      <td>0</td>\n",
              "    </tr>\n",
              "    <tr>\n",
              "      <th>season</th>\n",
              "      <td>0</td>\n",
              "    </tr>\n",
              "    <tr>\n",
              "      <th>yr</th>\n",
              "      <td>0</td>\n",
              "    </tr>\n",
              "    <tr>\n",
              "      <th>mnth</th>\n",
              "      <td>0</td>\n",
              "    </tr>\n",
              "    <tr>\n",
              "      <th>hr</th>\n",
              "      <td>0</td>\n",
              "    </tr>\n",
              "    <tr>\n",
              "      <th>holiday</th>\n",
              "      <td>0</td>\n",
              "    </tr>\n",
              "    <tr>\n",
              "      <th>weekday</th>\n",
              "      <td>0</td>\n",
              "    </tr>\n",
              "    <tr>\n",
              "      <th>workingday</th>\n",
              "      <td>0</td>\n",
              "    </tr>\n",
              "    <tr>\n",
              "      <th>weathersit</th>\n",
              "      <td>0</td>\n",
              "    </tr>\n",
              "    <tr>\n",
              "      <th>temp</th>\n",
              "      <td>0</td>\n",
              "    </tr>\n",
              "    <tr>\n",
              "      <th>atemp</th>\n",
              "      <td>0</td>\n",
              "    </tr>\n",
              "    <tr>\n",
              "      <th>hum</th>\n",
              "      <td>0</td>\n",
              "    </tr>\n",
              "    <tr>\n",
              "      <th>windspeed</th>\n",
              "      <td>0</td>\n",
              "    </tr>\n",
              "    <tr>\n",
              "      <th>casual</th>\n",
              "      <td>0</td>\n",
              "    </tr>\n",
              "    <tr>\n",
              "      <th>registered</th>\n",
              "      <td>0</td>\n",
              "    </tr>\n",
              "    <tr>\n",
              "      <th>cnt</th>\n",
              "      <td>0</td>\n",
              "    </tr>\n",
              "  </tbody>\n",
              "</table>\n",
              "</div><br><label><b>dtype:</b> int64</label>"
            ]
          },
          "metadata": {},
          "execution_count": 9
        }
      ]
    },
    {
      "cell_type": "code",
      "source": [
        "hour_df.duplicated().sum()"
      ],
      "metadata": {
        "colab": {
          "base_uri": "https://localhost:8080/"
        },
        "collapsed": true,
        "id": "wDQEqJ-qs6fS",
        "outputId": "5f4a35c8-ca7a-44c4-febd-3995849c3616"
      },
      "execution_count": 10,
      "outputs": [
        {
          "output_type": "execute_result",
          "data": {
            "text/plain": [
              "0"
            ]
          },
          "metadata": {},
          "execution_count": 10
        }
      ]
    },
    {
      "cell_type": "code",
      "source": [
        "hour_df.dtypes"
      ],
      "metadata": {
        "collapsed": true,
        "colab": {
          "base_uri": "https://localhost:8080/",
          "height": 647
        },
        "id": "sbvI0RcstAFp",
        "outputId": "eaf965e3-f6f8-4637-fd5b-46f627a41c3f"
      },
      "execution_count": 11,
      "outputs": [
        {
          "output_type": "execute_result",
          "data": {
            "text/plain": [
              "instant         int64\n",
              "dteday         object\n",
              "season          int64\n",
              "yr              int64\n",
              "mnth            int64\n",
              "hr              int64\n",
              "holiday         int64\n",
              "weekday         int64\n",
              "workingday      int64\n",
              "weathersit      int64\n",
              "temp          float64\n",
              "atemp         float64\n",
              "hum           float64\n",
              "windspeed     float64\n",
              "casual          int64\n",
              "registered      int64\n",
              "cnt             int64\n",
              "dtype: object"
            ],
            "text/html": [
              "<div>\n",
              "<style scoped>\n",
              "    .dataframe tbody tr th:only-of-type {\n",
              "        vertical-align: middle;\n",
              "    }\n",
              "\n",
              "    .dataframe tbody tr th {\n",
              "        vertical-align: top;\n",
              "    }\n",
              "\n",
              "    .dataframe thead th {\n",
              "        text-align: right;\n",
              "    }\n",
              "</style>\n",
              "<table border=\"1\" class=\"dataframe\">\n",
              "  <thead>\n",
              "    <tr style=\"text-align: right;\">\n",
              "      <th></th>\n",
              "      <th>0</th>\n",
              "    </tr>\n",
              "  </thead>\n",
              "  <tbody>\n",
              "    <tr>\n",
              "      <th>instant</th>\n",
              "      <td>int64</td>\n",
              "    </tr>\n",
              "    <tr>\n",
              "      <th>dteday</th>\n",
              "      <td>object</td>\n",
              "    </tr>\n",
              "    <tr>\n",
              "      <th>season</th>\n",
              "      <td>int64</td>\n",
              "    </tr>\n",
              "    <tr>\n",
              "      <th>yr</th>\n",
              "      <td>int64</td>\n",
              "    </tr>\n",
              "    <tr>\n",
              "      <th>mnth</th>\n",
              "      <td>int64</td>\n",
              "    </tr>\n",
              "    <tr>\n",
              "      <th>hr</th>\n",
              "      <td>int64</td>\n",
              "    </tr>\n",
              "    <tr>\n",
              "      <th>holiday</th>\n",
              "      <td>int64</td>\n",
              "    </tr>\n",
              "    <tr>\n",
              "      <th>weekday</th>\n",
              "      <td>int64</td>\n",
              "    </tr>\n",
              "    <tr>\n",
              "      <th>workingday</th>\n",
              "      <td>int64</td>\n",
              "    </tr>\n",
              "    <tr>\n",
              "      <th>weathersit</th>\n",
              "      <td>int64</td>\n",
              "    </tr>\n",
              "    <tr>\n",
              "      <th>temp</th>\n",
              "      <td>float64</td>\n",
              "    </tr>\n",
              "    <tr>\n",
              "      <th>atemp</th>\n",
              "      <td>float64</td>\n",
              "    </tr>\n",
              "    <tr>\n",
              "      <th>hum</th>\n",
              "      <td>float64</td>\n",
              "    </tr>\n",
              "    <tr>\n",
              "      <th>windspeed</th>\n",
              "      <td>float64</td>\n",
              "    </tr>\n",
              "    <tr>\n",
              "      <th>casual</th>\n",
              "      <td>int64</td>\n",
              "    </tr>\n",
              "    <tr>\n",
              "      <th>registered</th>\n",
              "      <td>int64</td>\n",
              "    </tr>\n",
              "    <tr>\n",
              "      <th>cnt</th>\n",
              "      <td>int64</td>\n",
              "    </tr>\n",
              "  </tbody>\n",
              "</table>\n",
              "</div><br><label><b>dtype:</b> object</label>"
            ]
          },
          "metadata": {},
          "execution_count": 11
        }
      ]
    },
    {
      "cell_type": "markdown",
      "source": [
        "**Insight:**\n",
        "- Tidak terdapat missing value dan duplikasi pada tabel `hour_df`\n",
        "- Kolom `dteday` masih dalam format string, oleh karena itu perlu dikonversi ke datetime"
      ],
      "metadata": {
        "id": "hnA6GCdYtpVB"
      }
    },
    {
      "cell_type": "markdown",
      "metadata": {
        "id": "EhN5R4hr8DC1"
      },
      "source": [
        "### Cleaning Data"
      ]
    },
    {
      "cell_type": "code",
      "source": [
        "# Mengubah format string ke datetime untuk kedua dataset\n",
        "day_df[\"dteday\"] = pd.to_datetime(day_df[\"dteday\"])\n",
        "hour_df[\"dteday\"] = pd.to_datetime(hour_df[\"dteday\"])\n",
        "\n",
        "display(day_df.dtypes, hour_df.dtypes)"
      ],
      "metadata": {
        "id": "jVnYpprE9Evz",
        "colab": {
          "base_uri": "https://localhost:8080/",
          "height": 1000
        },
        "outputId": "775b2adc-b605-4bbe-f1e5-9903d45caaf9"
      },
      "execution_count": 12,
      "outputs": [
        {
          "output_type": "display_data",
          "data": {
            "text/plain": [
              "instant                int64\n",
              "dteday        datetime64[ns]\n",
              "season                 int64\n",
              "yr                     int64\n",
              "mnth                   int64\n",
              "holiday                int64\n",
              "weekday                int64\n",
              "workingday             int64\n",
              "weathersit             int64\n",
              "temp                 float64\n",
              "atemp                float64\n",
              "hum                  float64\n",
              "windspeed            float64\n",
              "casual                 int64\n",
              "registered             int64\n",
              "cnt                    int64\n",
              "dtype: object"
            ],
            "text/html": [
              "<div>\n",
              "<style scoped>\n",
              "    .dataframe tbody tr th:only-of-type {\n",
              "        vertical-align: middle;\n",
              "    }\n",
              "\n",
              "    .dataframe tbody tr th {\n",
              "        vertical-align: top;\n",
              "    }\n",
              "\n",
              "    .dataframe thead th {\n",
              "        text-align: right;\n",
              "    }\n",
              "</style>\n",
              "<table border=\"1\" class=\"dataframe\">\n",
              "  <thead>\n",
              "    <tr style=\"text-align: right;\">\n",
              "      <th></th>\n",
              "      <th>0</th>\n",
              "    </tr>\n",
              "  </thead>\n",
              "  <tbody>\n",
              "    <tr>\n",
              "      <th>instant</th>\n",
              "      <td>int64</td>\n",
              "    </tr>\n",
              "    <tr>\n",
              "      <th>dteday</th>\n",
              "      <td>datetime64[ns]</td>\n",
              "    </tr>\n",
              "    <tr>\n",
              "      <th>season</th>\n",
              "      <td>int64</td>\n",
              "    </tr>\n",
              "    <tr>\n",
              "      <th>yr</th>\n",
              "      <td>int64</td>\n",
              "    </tr>\n",
              "    <tr>\n",
              "      <th>mnth</th>\n",
              "      <td>int64</td>\n",
              "    </tr>\n",
              "    <tr>\n",
              "      <th>holiday</th>\n",
              "      <td>int64</td>\n",
              "    </tr>\n",
              "    <tr>\n",
              "      <th>weekday</th>\n",
              "      <td>int64</td>\n",
              "    </tr>\n",
              "    <tr>\n",
              "      <th>workingday</th>\n",
              "      <td>int64</td>\n",
              "    </tr>\n",
              "    <tr>\n",
              "      <th>weathersit</th>\n",
              "      <td>int64</td>\n",
              "    </tr>\n",
              "    <tr>\n",
              "      <th>temp</th>\n",
              "      <td>float64</td>\n",
              "    </tr>\n",
              "    <tr>\n",
              "      <th>atemp</th>\n",
              "      <td>float64</td>\n",
              "    </tr>\n",
              "    <tr>\n",
              "      <th>hum</th>\n",
              "      <td>float64</td>\n",
              "    </tr>\n",
              "    <tr>\n",
              "      <th>windspeed</th>\n",
              "      <td>float64</td>\n",
              "    </tr>\n",
              "    <tr>\n",
              "      <th>casual</th>\n",
              "      <td>int64</td>\n",
              "    </tr>\n",
              "    <tr>\n",
              "      <th>registered</th>\n",
              "      <td>int64</td>\n",
              "    </tr>\n",
              "    <tr>\n",
              "      <th>cnt</th>\n",
              "      <td>int64</td>\n",
              "    </tr>\n",
              "  </tbody>\n",
              "</table>\n",
              "</div><br><label><b>dtype:</b> object</label>"
            ]
          },
          "metadata": {}
        },
        {
          "output_type": "display_data",
          "data": {
            "text/plain": [
              "instant                int64\n",
              "dteday        datetime64[ns]\n",
              "season                 int64\n",
              "yr                     int64\n",
              "mnth                   int64\n",
              "hr                     int64\n",
              "holiday                int64\n",
              "weekday                int64\n",
              "workingday             int64\n",
              "weathersit             int64\n",
              "temp                 float64\n",
              "atemp                float64\n",
              "hum                  float64\n",
              "windspeed            float64\n",
              "casual                 int64\n",
              "registered             int64\n",
              "cnt                    int64\n",
              "dtype: object"
            ],
            "text/html": [
              "<div>\n",
              "<style scoped>\n",
              "    .dataframe tbody tr th:only-of-type {\n",
              "        vertical-align: middle;\n",
              "    }\n",
              "\n",
              "    .dataframe tbody tr th {\n",
              "        vertical-align: top;\n",
              "    }\n",
              "\n",
              "    .dataframe thead th {\n",
              "        text-align: right;\n",
              "    }\n",
              "</style>\n",
              "<table border=\"1\" class=\"dataframe\">\n",
              "  <thead>\n",
              "    <tr style=\"text-align: right;\">\n",
              "      <th></th>\n",
              "      <th>0</th>\n",
              "    </tr>\n",
              "  </thead>\n",
              "  <tbody>\n",
              "    <tr>\n",
              "      <th>instant</th>\n",
              "      <td>int64</td>\n",
              "    </tr>\n",
              "    <tr>\n",
              "      <th>dteday</th>\n",
              "      <td>datetime64[ns]</td>\n",
              "    </tr>\n",
              "    <tr>\n",
              "      <th>season</th>\n",
              "      <td>int64</td>\n",
              "    </tr>\n",
              "    <tr>\n",
              "      <th>yr</th>\n",
              "      <td>int64</td>\n",
              "    </tr>\n",
              "    <tr>\n",
              "      <th>mnth</th>\n",
              "      <td>int64</td>\n",
              "    </tr>\n",
              "    <tr>\n",
              "      <th>hr</th>\n",
              "      <td>int64</td>\n",
              "    </tr>\n",
              "    <tr>\n",
              "      <th>holiday</th>\n",
              "      <td>int64</td>\n",
              "    </tr>\n",
              "    <tr>\n",
              "      <th>weekday</th>\n",
              "      <td>int64</td>\n",
              "    </tr>\n",
              "    <tr>\n",
              "      <th>workingday</th>\n",
              "      <td>int64</td>\n",
              "    </tr>\n",
              "    <tr>\n",
              "      <th>weathersit</th>\n",
              "      <td>int64</td>\n",
              "    </tr>\n",
              "    <tr>\n",
              "      <th>temp</th>\n",
              "      <td>float64</td>\n",
              "    </tr>\n",
              "    <tr>\n",
              "      <th>atemp</th>\n",
              "      <td>float64</td>\n",
              "    </tr>\n",
              "    <tr>\n",
              "      <th>hum</th>\n",
              "      <td>float64</td>\n",
              "    </tr>\n",
              "    <tr>\n",
              "      <th>windspeed</th>\n",
              "      <td>float64</td>\n",
              "    </tr>\n",
              "    <tr>\n",
              "      <th>casual</th>\n",
              "      <td>int64</td>\n",
              "    </tr>\n",
              "    <tr>\n",
              "      <th>registered</th>\n",
              "      <td>int64</td>\n",
              "    </tr>\n",
              "    <tr>\n",
              "      <th>cnt</th>\n",
              "      <td>int64</td>\n",
              "    </tr>\n",
              "  </tbody>\n",
              "</table>\n",
              "</div><br><label><b>dtype:</b> object</label>"
            ]
          },
          "metadata": {}
        }
      ]
    },
    {
      "cell_type": "markdown",
      "source": [
        "**Insight:**\n",
        "- Format string pada kolom `dteday` sudah dikonversi ke datetime."
      ],
      "metadata": {
        "id": "Q_5ejIqckiSP"
      }
    },
    {
      "cell_type": "markdown",
      "metadata": {
        "id": "gp-Y6wU38DC1"
      },
      "source": [
        "## Exploratory Data Analysis (EDA)"
      ]
    },
    {
      "cell_type": "markdown",
      "metadata": {
        "id": "MW7WF2kr8DC1"
      },
      "source": [
        "### Explore `day_df`"
      ]
    },
    {
      "cell_type": "code",
      "execution_count": 13,
      "metadata": {
        "id": "e9CQCZjk8DC2",
        "colab": {
          "base_uri": "https://localhost:8080/",
          "height": 521
        },
        "collapsed": true,
        "outputId": "b266568e-5198-4052-b305-5006b54f7235"
      },
      "outputs": [
        {
          "output_type": "execute_result",
          "data": {
            "text/plain": [
              "          instant               dteday      season          yr        mnth  \\\n",
              "count  731.000000                  731  731.000000  731.000000  731.000000   \n",
              "mean   366.000000  2012-01-01 00:00:00    2.496580    0.500684    6.519836   \n",
              "min      1.000000  2011-01-01 00:00:00    1.000000    0.000000    1.000000   \n",
              "25%    183.500000  2011-07-02 12:00:00    2.000000    0.000000    4.000000   \n",
              "50%    366.000000  2012-01-01 00:00:00    3.000000    1.000000    7.000000   \n",
              "75%    548.500000  2012-07-01 12:00:00    3.000000    1.000000   10.000000   \n",
              "max    731.000000  2012-12-31 00:00:00    4.000000    1.000000   12.000000   \n",
              "std    211.165812                  NaN    1.110807    0.500342    3.451913   \n",
              "\n",
              "          holiday     weekday  workingday  weathersit        temp       atemp  \\\n",
              "count  731.000000  731.000000  731.000000  731.000000  731.000000  731.000000   \n",
              "mean     0.028728    2.997264    0.683995    1.395349    0.495385    0.474354   \n",
              "min      0.000000    0.000000    0.000000    1.000000    0.059130    0.079070   \n",
              "25%      0.000000    1.000000    0.000000    1.000000    0.337083    0.337842   \n",
              "50%      0.000000    3.000000    1.000000    1.000000    0.498333    0.486733   \n",
              "75%      0.000000    5.000000    1.000000    2.000000    0.655417    0.608602   \n",
              "max      1.000000    6.000000    1.000000    3.000000    0.861667    0.840896   \n",
              "std      0.167155    2.004787    0.465233    0.544894    0.183051    0.162961   \n",
              "\n",
              "              hum   windspeed       casual   registered          cnt  \n",
              "count  731.000000  731.000000   731.000000   731.000000   731.000000  \n",
              "mean     0.627894    0.190486   848.176471  3656.172367  4504.348837  \n",
              "min      0.000000    0.022392     2.000000    20.000000    22.000000  \n",
              "25%      0.520000    0.134950   315.500000  2497.000000  3152.000000  \n",
              "50%      0.626667    0.180975   713.000000  3662.000000  4548.000000  \n",
              "75%      0.730209    0.233214  1096.000000  4776.500000  5956.000000  \n",
              "max      0.972500    0.507463  3410.000000  6946.000000  8714.000000  \n",
              "std      0.142429    0.077498   686.622488  1560.256377  1937.211452  "
            ],
            "text/html": [
              "\n",
              "  <div id=\"df-98d6d77b-c993-4d53-96b2-18f4a650bfdd\" class=\"colab-df-container\">\n",
              "    <div>\n",
              "<style scoped>\n",
              "    .dataframe tbody tr th:only-of-type {\n",
              "        vertical-align: middle;\n",
              "    }\n",
              "\n",
              "    .dataframe tbody tr th {\n",
              "        vertical-align: top;\n",
              "    }\n",
              "\n",
              "    .dataframe thead th {\n",
              "        text-align: right;\n",
              "    }\n",
              "</style>\n",
              "<table border=\"1\" class=\"dataframe\">\n",
              "  <thead>\n",
              "    <tr style=\"text-align: right;\">\n",
              "      <th></th>\n",
              "      <th>instant</th>\n",
              "      <th>dteday</th>\n",
              "      <th>season</th>\n",
              "      <th>yr</th>\n",
              "      <th>mnth</th>\n",
              "      <th>holiday</th>\n",
              "      <th>weekday</th>\n",
              "      <th>workingday</th>\n",
              "      <th>weathersit</th>\n",
              "      <th>temp</th>\n",
              "      <th>atemp</th>\n",
              "      <th>hum</th>\n",
              "      <th>windspeed</th>\n",
              "      <th>casual</th>\n",
              "      <th>registered</th>\n",
              "      <th>cnt</th>\n",
              "    </tr>\n",
              "  </thead>\n",
              "  <tbody>\n",
              "    <tr>\n",
              "      <th>count</th>\n",
              "      <td>731.000000</td>\n",
              "      <td>731</td>\n",
              "      <td>731.000000</td>\n",
              "      <td>731.000000</td>\n",
              "      <td>731.000000</td>\n",
              "      <td>731.000000</td>\n",
              "      <td>731.000000</td>\n",
              "      <td>731.000000</td>\n",
              "      <td>731.000000</td>\n",
              "      <td>731.000000</td>\n",
              "      <td>731.000000</td>\n",
              "      <td>731.000000</td>\n",
              "      <td>731.000000</td>\n",
              "      <td>731.000000</td>\n",
              "      <td>731.000000</td>\n",
              "      <td>731.000000</td>\n",
              "    </tr>\n",
              "    <tr>\n",
              "      <th>mean</th>\n",
              "      <td>366.000000</td>\n",
              "      <td>2012-01-01 00:00:00</td>\n",
              "      <td>2.496580</td>\n",
              "      <td>0.500684</td>\n",
              "      <td>6.519836</td>\n",
              "      <td>0.028728</td>\n",
              "      <td>2.997264</td>\n",
              "      <td>0.683995</td>\n",
              "      <td>1.395349</td>\n",
              "      <td>0.495385</td>\n",
              "      <td>0.474354</td>\n",
              "      <td>0.627894</td>\n",
              "      <td>0.190486</td>\n",
              "      <td>848.176471</td>\n",
              "      <td>3656.172367</td>\n",
              "      <td>4504.348837</td>\n",
              "    </tr>\n",
              "    <tr>\n",
              "      <th>min</th>\n",
              "      <td>1.000000</td>\n",
              "      <td>2011-01-01 00:00:00</td>\n",
              "      <td>1.000000</td>\n",
              "      <td>0.000000</td>\n",
              "      <td>1.000000</td>\n",
              "      <td>0.000000</td>\n",
              "      <td>0.000000</td>\n",
              "      <td>0.000000</td>\n",
              "      <td>1.000000</td>\n",
              "      <td>0.059130</td>\n",
              "      <td>0.079070</td>\n",
              "      <td>0.000000</td>\n",
              "      <td>0.022392</td>\n",
              "      <td>2.000000</td>\n",
              "      <td>20.000000</td>\n",
              "      <td>22.000000</td>\n",
              "    </tr>\n",
              "    <tr>\n",
              "      <th>25%</th>\n",
              "      <td>183.500000</td>\n",
              "      <td>2011-07-02 12:00:00</td>\n",
              "      <td>2.000000</td>\n",
              "      <td>0.000000</td>\n",
              "      <td>4.000000</td>\n",
              "      <td>0.000000</td>\n",
              "      <td>1.000000</td>\n",
              "      <td>0.000000</td>\n",
              "      <td>1.000000</td>\n",
              "      <td>0.337083</td>\n",
              "      <td>0.337842</td>\n",
              "      <td>0.520000</td>\n",
              "      <td>0.134950</td>\n",
              "      <td>315.500000</td>\n",
              "      <td>2497.000000</td>\n",
              "      <td>3152.000000</td>\n",
              "    </tr>\n",
              "    <tr>\n",
              "      <th>50%</th>\n",
              "      <td>366.000000</td>\n",
              "      <td>2012-01-01 00:00:00</td>\n",
              "      <td>3.000000</td>\n",
              "      <td>1.000000</td>\n",
              "      <td>7.000000</td>\n",
              "      <td>0.000000</td>\n",
              "      <td>3.000000</td>\n",
              "      <td>1.000000</td>\n",
              "      <td>1.000000</td>\n",
              "      <td>0.498333</td>\n",
              "      <td>0.486733</td>\n",
              "      <td>0.626667</td>\n",
              "      <td>0.180975</td>\n",
              "      <td>713.000000</td>\n",
              "      <td>3662.000000</td>\n",
              "      <td>4548.000000</td>\n",
              "    </tr>\n",
              "    <tr>\n",
              "      <th>75%</th>\n",
              "      <td>548.500000</td>\n",
              "      <td>2012-07-01 12:00:00</td>\n",
              "      <td>3.000000</td>\n",
              "      <td>1.000000</td>\n",
              "      <td>10.000000</td>\n",
              "      <td>0.000000</td>\n",
              "      <td>5.000000</td>\n",
              "      <td>1.000000</td>\n",
              "      <td>2.000000</td>\n",
              "      <td>0.655417</td>\n",
              "      <td>0.608602</td>\n",
              "      <td>0.730209</td>\n",
              "      <td>0.233214</td>\n",
              "      <td>1096.000000</td>\n",
              "      <td>4776.500000</td>\n",
              "      <td>5956.000000</td>\n",
              "    </tr>\n",
              "    <tr>\n",
              "      <th>max</th>\n",
              "      <td>731.000000</td>\n",
              "      <td>2012-12-31 00:00:00</td>\n",
              "      <td>4.000000</td>\n",
              "      <td>1.000000</td>\n",
              "      <td>12.000000</td>\n",
              "      <td>1.000000</td>\n",
              "      <td>6.000000</td>\n",
              "      <td>1.000000</td>\n",
              "      <td>3.000000</td>\n",
              "      <td>0.861667</td>\n",
              "      <td>0.840896</td>\n",
              "      <td>0.972500</td>\n",
              "      <td>0.507463</td>\n",
              "      <td>3410.000000</td>\n",
              "      <td>6946.000000</td>\n",
              "      <td>8714.000000</td>\n",
              "    </tr>\n",
              "    <tr>\n",
              "      <th>std</th>\n",
              "      <td>211.165812</td>\n",
              "      <td>NaN</td>\n",
              "      <td>1.110807</td>\n",
              "      <td>0.500342</td>\n",
              "      <td>3.451913</td>\n",
              "      <td>0.167155</td>\n",
              "      <td>2.004787</td>\n",
              "      <td>0.465233</td>\n",
              "      <td>0.544894</td>\n",
              "      <td>0.183051</td>\n",
              "      <td>0.162961</td>\n",
              "      <td>0.142429</td>\n",
              "      <td>0.077498</td>\n",
              "      <td>686.622488</td>\n",
              "      <td>1560.256377</td>\n",
              "      <td>1937.211452</td>\n",
              "    </tr>\n",
              "  </tbody>\n",
              "</table>\n",
              "</div>\n",
              "    <div class=\"colab-df-buttons\">\n",
              "\n",
              "  <div class=\"colab-df-container\">\n",
              "    <button class=\"colab-df-convert\" onclick=\"convertToInteractive('df-98d6d77b-c993-4d53-96b2-18f4a650bfdd')\"\n",
              "            title=\"Convert this dataframe to an interactive table.\"\n",
              "            style=\"display:none;\">\n",
              "\n",
              "  <svg xmlns=\"http://www.w3.org/2000/svg\" height=\"24px\" viewBox=\"0 -960 960 960\">\n",
              "    <path d=\"M120-120v-720h720v720H120Zm60-500h600v-160H180v160Zm220 220h160v-160H400v160Zm0 220h160v-160H400v160ZM180-400h160v-160H180v160Zm440 0h160v-160H620v160ZM180-180h160v-160H180v160Zm440 0h160v-160H620v160Z\"/>\n",
              "  </svg>\n",
              "    </button>\n",
              "\n",
              "  <style>\n",
              "    .colab-df-container {\n",
              "      display:flex;\n",
              "      gap: 12px;\n",
              "    }\n",
              "\n",
              "    .colab-df-convert {\n",
              "      background-color: #E8F0FE;\n",
              "      border: none;\n",
              "      border-radius: 50%;\n",
              "      cursor: pointer;\n",
              "      display: none;\n",
              "      fill: #1967D2;\n",
              "      height: 32px;\n",
              "      padding: 0 0 0 0;\n",
              "      width: 32px;\n",
              "    }\n",
              "\n",
              "    .colab-df-convert:hover {\n",
              "      background-color: #E2EBFA;\n",
              "      box-shadow: 0px 1px 2px rgba(60, 64, 67, 0.3), 0px 1px 3px 1px rgba(60, 64, 67, 0.15);\n",
              "      fill: #174EA6;\n",
              "    }\n",
              "\n",
              "    .colab-df-buttons div {\n",
              "      margin-bottom: 4px;\n",
              "    }\n",
              "\n",
              "    [theme=dark] .colab-df-convert {\n",
              "      background-color: #3B4455;\n",
              "      fill: #D2E3FC;\n",
              "    }\n",
              "\n",
              "    [theme=dark] .colab-df-convert:hover {\n",
              "      background-color: #434B5C;\n",
              "      box-shadow: 0px 1px 3px 1px rgba(0, 0, 0, 0.15);\n",
              "      filter: drop-shadow(0px 1px 2px rgba(0, 0, 0, 0.3));\n",
              "      fill: #FFFFFF;\n",
              "    }\n",
              "  </style>\n",
              "\n",
              "    <script>\n",
              "      const buttonEl =\n",
              "        document.querySelector('#df-98d6d77b-c993-4d53-96b2-18f4a650bfdd button.colab-df-convert');\n",
              "      buttonEl.style.display =\n",
              "        google.colab.kernel.accessAllowed ? 'block' : 'none';\n",
              "\n",
              "      async function convertToInteractive(key) {\n",
              "        const element = document.querySelector('#df-98d6d77b-c993-4d53-96b2-18f4a650bfdd');\n",
              "        const dataTable =\n",
              "          await google.colab.kernel.invokeFunction('convertToInteractive',\n",
              "                                                    [key], {});\n",
              "        if (!dataTable) return;\n",
              "\n",
              "        const docLinkHtml = 'Like what you see? Visit the ' +\n",
              "          '<a target=\"_blank\" href=https://colab.research.google.com/notebooks/data_table.ipynb>data table notebook</a>'\n",
              "          + ' to learn more about interactive tables.';\n",
              "        element.innerHTML = '';\n",
              "        dataTable['output_type'] = 'display_data';\n",
              "        await google.colab.output.renderOutput(dataTable, element);\n",
              "        const docLink = document.createElement('div');\n",
              "        docLink.innerHTML = docLinkHtml;\n",
              "        element.appendChild(docLink);\n",
              "      }\n",
              "    </script>\n",
              "  </div>\n",
              "\n",
              "\n",
              "<div id=\"df-f5dde3b3-faf7-40a5-98d5-0756870ee8d5\">\n",
              "  <button class=\"colab-df-quickchart\" onclick=\"quickchart('df-f5dde3b3-faf7-40a5-98d5-0756870ee8d5')\"\n",
              "            title=\"Suggest charts\"\n",
              "            style=\"display:none;\">\n",
              "\n",
              "<svg xmlns=\"http://www.w3.org/2000/svg\" height=\"24px\"viewBox=\"0 0 24 24\"\n",
              "     width=\"24px\">\n",
              "    <g>\n",
              "        <path d=\"M19 3H5c-1.1 0-2 .9-2 2v14c0 1.1.9 2 2 2h14c1.1 0 2-.9 2-2V5c0-1.1-.9-2-2-2zM9 17H7v-7h2v7zm4 0h-2V7h2v10zm4 0h-2v-4h2v4z\"/>\n",
              "    </g>\n",
              "</svg>\n",
              "  </button>\n",
              "\n",
              "<style>\n",
              "  .colab-df-quickchart {\n",
              "      --bg-color: #E8F0FE;\n",
              "      --fill-color: #1967D2;\n",
              "      --hover-bg-color: #E2EBFA;\n",
              "      --hover-fill-color: #174EA6;\n",
              "      --disabled-fill-color: #AAA;\n",
              "      --disabled-bg-color: #DDD;\n",
              "  }\n",
              "\n",
              "  [theme=dark] .colab-df-quickchart {\n",
              "      --bg-color: #3B4455;\n",
              "      --fill-color: #D2E3FC;\n",
              "      --hover-bg-color: #434B5C;\n",
              "      --hover-fill-color: #FFFFFF;\n",
              "      --disabled-bg-color: #3B4455;\n",
              "      --disabled-fill-color: #666;\n",
              "  }\n",
              "\n",
              "  .colab-df-quickchart {\n",
              "    background-color: var(--bg-color);\n",
              "    border: none;\n",
              "    border-radius: 50%;\n",
              "    cursor: pointer;\n",
              "    display: none;\n",
              "    fill: var(--fill-color);\n",
              "    height: 32px;\n",
              "    padding: 0;\n",
              "    width: 32px;\n",
              "  }\n",
              "\n",
              "  .colab-df-quickchart:hover {\n",
              "    background-color: var(--hover-bg-color);\n",
              "    box-shadow: 0 1px 2px rgba(60, 64, 67, 0.3), 0 1px 3px 1px rgba(60, 64, 67, 0.15);\n",
              "    fill: var(--button-hover-fill-color);\n",
              "  }\n",
              "\n",
              "  .colab-df-quickchart-complete:disabled,\n",
              "  .colab-df-quickchart-complete:disabled:hover {\n",
              "    background-color: var(--disabled-bg-color);\n",
              "    fill: var(--disabled-fill-color);\n",
              "    box-shadow: none;\n",
              "  }\n",
              "\n",
              "  .colab-df-spinner {\n",
              "    border: 2px solid var(--fill-color);\n",
              "    border-color: transparent;\n",
              "    border-bottom-color: var(--fill-color);\n",
              "    animation:\n",
              "      spin 1s steps(1) infinite;\n",
              "  }\n",
              "\n",
              "  @keyframes spin {\n",
              "    0% {\n",
              "      border-color: transparent;\n",
              "      border-bottom-color: var(--fill-color);\n",
              "      border-left-color: var(--fill-color);\n",
              "    }\n",
              "    20% {\n",
              "      border-color: transparent;\n",
              "      border-left-color: var(--fill-color);\n",
              "      border-top-color: var(--fill-color);\n",
              "    }\n",
              "    30% {\n",
              "      border-color: transparent;\n",
              "      border-left-color: var(--fill-color);\n",
              "      border-top-color: var(--fill-color);\n",
              "      border-right-color: var(--fill-color);\n",
              "    }\n",
              "    40% {\n",
              "      border-color: transparent;\n",
              "      border-right-color: var(--fill-color);\n",
              "      border-top-color: var(--fill-color);\n",
              "    }\n",
              "    60% {\n",
              "      border-color: transparent;\n",
              "      border-right-color: var(--fill-color);\n",
              "    }\n",
              "    80% {\n",
              "      border-color: transparent;\n",
              "      border-right-color: var(--fill-color);\n",
              "      border-bottom-color: var(--fill-color);\n",
              "    }\n",
              "    90% {\n",
              "      border-color: transparent;\n",
              "      border-bottom-color: var(--fill-color);\n",
              "    }\n",
              "  }\n",
              "</style>\n",
              "\n",
              "  <script>\n",
              "    async function quickchart(key) {\n",
              "      const quickchartButtonEl =\n",
              "        document.querySelector('#' + key + ' button');\n",
              "      quickchartButtonEl.disabled = true;  // To prevent multiple clicks.\n",
              "      quickchartButtonEl.classList.add('colab-df-spinner');\n",
              "      try {\n",
              "        const charts = await google.colab.kernel.invokeFunction(\n",
              "            'suggestCharts', [key], {});\n",
              "      } catch (error) {\n",
              "        console.error('Error during call to suggestCharts:', error);\n",
              "      }\n",
              "      quickchartButtonEl.classList.remove('colab-df-spinner');\n",
              "      quickchartButtonEl.classList.add('colab-df-quickchart-complete');\n",
              "    }\n",
              "    (() => {\n",
              "      let quickchartButtonEl =\n",
              "        document.querySelector('#df-f5dde3b3-faf7-40a5-98d5-0756870ee8d5 button');\n",
              "      quickchartButtonEl.style.display =\n",
              "        google.colab.kernel.accessAllowed ? 'block' : 'none';\n",
              "    })();\n",
              "  </script>\n",
              "</div>\n",
              "\n",
              "    </div>\n",
              "  </div>\n"
            ],
            "application/vnd.google.colaboratory.intrinsic+json": {
              "type": "dataframe",
              "summary": "{\n  \"name\": \"day_df\",\n  \"rows\": 8,\n  \"fields\": [\n    {\n      \"column\": \"instant\",\n      \"properties\": {\n        \"dtype\": \"number\",\n        \"std\": 263.151210562102,\n        \"min\": 1.0,\n        \"max\": 731.0,\n        \"num_unique_values\": 6,\n        \"samples\": [\n          731.0,\n          366.0,\n          211.16581162678773\n        ],\n        \"semantic_type\": \"\",\n        \"description\": \"\"\n      }\n    },\n    {\n      \"column\": \"dteday\",\n      \"properties\": {\n        \"dtype\": \"date\",\n        \"min\": \"1970-01-01 00:00:00.000000731\",\n        \"max\": \"2012-12-31 00:00:00\",\n        \"num_unique_values\": 6,\n        \"samples\": [\n          \"731\",\n          \"2012-01-01 00:00:00\",\n          \"2012-12-31 00:00:00\"\n        ],\n        \"semantic_type\": \"\",\n        \"description\": \"\"\n      }\n    },\n    {\n      \"column\": \"season\",\n      \"properties\": {\n        \"dtype\": \"number\",\n        \"std\": 257.61068803932375,\n        \"min\": 1.0,\n        \"max\": 731.0,\n        \"num_unique_values\": 7,\n        \"samples\": [\n          731.0,\n          2.496580027359781,\n          4.0\n        ],\n        \"semantic_type\": \"\",\n        \"description\": \"\"\n      }\n    },\n    {\n      \"column\": \"yr\",\n      \"properties\": {\n        \"dtype\": \"number\",\n        \"std\": 258.2457820210964,\n        \"min\": 0.0,\n        \"max\": 731.0,\n        \"num_unique_values\": 5,\n        \"samples\": [\n          0.5006839945280438,\n          0.5003418803818294,\n          0.0\n        ],\n        \"semantic_type\": \"\",\n        \"description\": \"\"\n      }\n    },\n    {\n      \"column\": \"mnth\",\n      \"properties\": {\n        \"dtype\": \"number\",\n        \"std\": 256.251208377565,\n        \"min\": 1.0,\n        \"max\": 731.0,\n        \"num_unique_values\": 8,\n        \"samples\": [\n          6.519835841313269,\n          10.0,\n          731.0\n        ],\n        \"semantic_type\": \"\",\n        \"description\": \"\"\n      }\n    },\n    {\n      \"column\": \"holiday\",\n      \"properties\": {\n        \"dtype\": \"number\",\n        \"std\": 258.38735524952386,\n        \"min\": 0.0,\n        \"max\": 731.0,\n        \"num_unique_values\": 5,\n        \"samples\": [\n          0.028727770177838577,\n          0.16715474262247393,\n          0.0\n        ],\n        \"semantic_type\": \"\",\n        \"description\": \"\"\n      }\n    },\n    {\n      \"column\": \"weekday\",\n      \"properties\": {\n        \"dtype\": \"number\",\n        \"std\": 257.4447215833011,\n        \"min\": 0.0,\n        \"max\": 731.0,\n        \"num_unique_values\": 8,\n        \"samples\": [\n          2.997264021887825,\n          5.0,\n          731.0\n        ],\n        \"semantic_type\": \"\",\n        \"description\": \"\"\n      }\n    },\n    {\n      \"column\": \"workingday\",\n      \"properties\": {\n        \"dtype\": \"number\",\n        \"std\": 258.23829965962693,\n        \"min\": 0.0,\n        \"max\": 731.0,\n        \"num_unique_values\": 5,\n        \"samples\": [\n          0.6839945280437757,\n          0.46523338667770103,\n          0.0\n        ],\n        \"semantic_type\": \"\",\n        \"description\": \"\"\n      }\n    },\n    {\n      \"column\": \"weathersit\",\n      \"properties\": {\n        \"dtype\": \"number\",\n        \"std\": 257.94661363848155,\n        \"min\": 0.5448943419593629,\n        \"max\": 731.0,\n        \"num_unique_values\": 6,\n        \"samples\": [\n          731.0,\n          1.3953488372093024,\n          0.5448943419593629\n        ],\n        \"semantic_type\": \"\",\n        \"description\": \"\"\n      }\n    },\n    {\n      \"column\": \"temp\",\n      \"properties\": {\n        \"dtype\": \"number\",\n        \"std\": 258.2915817037473,\n        \"min\": 0.0591304,\n        \"max\": 731.0,\n        \"num_unique_values\": 8,\n        \"samples\": [\n          0.495384788508892,\n          0.6554165000000001,\n          731.0\n        ],\n        \"semantic_type\": \"\",\n        \"description\": \"\"\n      }\n    },\n    {\n      \"column\": \"atemp\",\n      \"properties\": {\n        \"dtype\": \"number\",\n        \"std\": 258.2966006263005,\n        \"min\": 0.0790696,\n        \"max\": 731.0,\n        \"num_unique_values\": 8,\n        \"samples\": [\n          0.47435398864569084,\n          0.6086020000000001,\n          731.0\n        ],\n        \"semantic_type\": \"\",\n        \"description\": \"\"\n      }\n    },\n    {\n      \"column\": \"hum\",\n      \"properties\": {\n        \"dtype\": \"number\",\n        \"std\": 258.26489554668353,\n        \"min\": 0.0,\n        \"max\": 731.0,\n        \"num_unique_values\": 8,\n        \"samples\": [\n          0.6278940629274967,\n          0.7302085,\n          731.0\n        ],\n        \"semantic_type\": \"\",\n        \"description\": \"\"\n      }\n    },\n    {\n      \"column\": \"windspeed\",\n      \"properties\": {\n        \"dtype\": \"number\",\n        \"std\": 258.37953633824185,\n        \"min\": 0.0223917,\n        \"max\": 731.0,\n        \"num_unique_values\": 8,\n        \"samples\": [\n          0.190486211627907,\n          0.2332145,\n          731.0\n        ],\n        \"semantic_type\": \"\",\n        \"description\": \"\"\n      }\n    },\n    {\n      \"column\": \"casual\",\n      \"properties\": {\n        \"dtype\": \"number\",\n        \"std\": 1038.7465238878817,\n        \"min\": 2.0,\n        \"max\": 3410.0,\n        \"num_unique_values\": 8,\n        \"samples\": [\n          848.1764705882352,\n          1096.0,\n          731.0\n        ],\n        \"semantic_type\": \"\",\n        \"description\": \"\"\n      }\n    },\n    {\n      \"column\": \"registered\",\n      \"properties\": {\n        \"dtype\": \"number\",\n        \"std\": 2266.131168472822,\n        \"min\": 20.0,\n        \"max\": 6946.0,\n        \"num_unique_values\": 8,\n        \"samples\": [\n          3656.172366621067,\n          4776.5,\n          731.0\n        ],\n        \"semantic_type\": \"\",\n        \"description\": \"\"\n      }\n    },\n    {\n      \"column\": \"cnt\",\n      \"properties\": {\n        \"dtype\": \"number\",\n        \"std\": 2862.2176347716063,\n        \"min\": 22.0,\n        \"max\": 8714.0,\n        \"num_unique_values\": 8,\n        \"samples\": [\n          4504.3488372093025,\n          5956.0,\n          731.0\n        ],\n        \"semantic_type\": \"\",\n        \"description\": \"\"\n      }\n    }\n  ]\n}"
            }
          },
          "metadata": {},
          "execution_count": 13
        }
      ],
      "source": [
        "# Melihat statistik deskriptif dari tabel day_df\n",
        "day_df.describe()"
      ]
    },
    {
      "cell_type": "code",
      "source": [
        "# Melihat distribusi dari variabel categorical\n",
        "categorical_columns = ['season', 'yr', 'mnth', 'holiday', 'weekday', 'workingday', 'weathersit']\n",
        "for col in categorical_columns:\n",
        "  print(f\"\\n=== Distribusi {col} ===\")\n",
        "  print(day_df[col].value_counts().sort_index())"
      ],
      "metadata": {
        "colab": {
          "base_uri": "https://localhost:8080/"
        },
        "collapsed": true,
        "id": "YIuDLGZJ9DVF",
        "outputId": "e6947867-8fb9-4cad-8b2c-1403cb9aa530"
      },
      "execution_count": 14,
      "outputs": [
        {
          "output_type": "stream",
          "name": "stdout",
          "text": [
            "\n",
            "=== Distribusi season ===\n",
            "season\n",
            "1    181\n",
            "2    184\n",
            "3    188\n",
            "4    178\n",
            "Name: count, dtype: int64\n",
            "\n",
            "=== Distribusi yr ===\n",
            "yr\n",
            "0    365\n",
            "1    366\n",
            "Name: count, dtype: int64\n",
            "\n",
            "=== Distribusi mnth ===\n",
            "mnth\n",
            "1     62\n",
            "2     57\n",
            "3     62\n",
            "4     60\n",
            "5     62\n",
            "6     60\n",
            "7     62\n",
            "8     62\n",
            "9     60\n",
            "10    62\n",
            "11    60\n",
            "12    62\n",
            "Name: count, dtype: int64\n",
            "\n",
            "=== Distribusi holiday ===\n",
            "holiday\n",
            "0    710\n",
            "1     21\n",
            "Name: count, dtype: int64\n",
            "\n",
            "=== Distribusi weekday ===\n",
            "weekday\n",
            "0    105\n",
            "1    105\n",
            "2    104\n",
            "3    104\n",
            "4    104\n",
            "5    104\n",
            "6    105\n",
            "Name: count, dtype: int64\n",
            "\n",
            "=== Distribusi workingday ===\n",
            "workingday\n",
            "0    231\n",
            "1    500\n",
            "Name: count, dtype: int64\n",
            "\n",
            "=== Distribusi weathersit ===\n",
            "weathersit\n",
            "1    463\n",
            "2    247\n",
            "3     21\n",
            "Name: count, dtype: int64\n"
          ]
        }
      ]
    },
    {
      "cell_type": "code",
      "source": [
        "# Distribusi peminjaman berdasarkan hari dalam seminggu\n",
        "weekday_trend = day_df.groupby('weekday')[[\"casual\", \"registered\", \"cnt\"]].mean()\n",
        "print(weekday_trend)"
      ],
      "metadata": {
        "colab": {
          "base_uri": "https://localhost:8080/"
        },
        "collapsed": true,
        "id": "MmLzeJ-B-Zu5",
        "outputId": "df594de9-6cf4-446e-f154-ea7a92bf0926"
      },
      "execution_count": 15,
      "outputs": [
        {
          "output_type": "stream",
          "name": "stdout",
          "text": [
            "              casual   registered          cnt\n",
            "weekday                                       \n",
            "0        1338.295238  2890.533333  4228.828571\n",
            "1         674.133333  3663.990476  4338.123810\n",
            "2         556.182692  3954.480769  4510.663462\n",
            "3         551.144231  3997.394231  4548.538462\n",
            "4         590.961538  4076.298077  4667.259615\n",
            "5         752.288462  3938.000000  4690.288462\n",
            "6        1465.257143  3085.285714  4550.542857\n"
          ]
        }
      ]
    },
    {
      "cell_type": "markdown",
      "source": [
        "**Insight:**\n",
        "- Hari Senin - Jumat didominasi oleh penyewa yang sudah terdaftar atau `registered`\n",
        "- Hari Sabtu dan Minggu, terdapat peningkatan untuk jumlah penyewa `casual` dibanding hari-hari lainnya"
      ],
      "metadata": {
        "id": "8Yj-eoPuPBAv"
      }
    },
    {
      "cell_type": "code",
      "source": [
        "# Distribusi peminjaman berdasarkan bulan\n",
        "monthly_trend = day_df.groupby('mnth')[[\"casual\", \"registered\", \"cnt\"]].mean()\n",
        "print(monthly_trend)"
      ],
      "metadata": {
        "colab": {
          "base_uri": "https://localhost:8080/"
        },
        "collapsed": true,
        "id": "124Y1Z_H_i69",
        "outputId": "fb005ad1-4c74-4231-a1c7-e52bc50c4a33"
      },
      "execution_count": 16,
      "outputs": [
        {
          "output_type": "stream",
          "name": "stdout",
          "text": [
            "           casual   registered          cnt\n",
            "mnth                                       \n",
            "1      194.225806  1982.112903  2176.338710\n",
            "2      262.508772  2392.789474  2655.298246\n",
            "3      716.838710  2975.419355  3692.258065\n",
            "4     1013.366667  3471.533333  4484.900000\n",
            "5     1214.274194  4135.500000  5349.774194\n",
            "6     1231.766667  4540.600000  5772.366667\n",
            "7     1260.596774  4303.080645  5563.677419\n",
            "8     1161.919355  4502.500000  5664.419355\n",
            "9     1172.050000  4594.466667  5766.516667\n",
            "10     963.870968  4235.354839  5199.225806\n",
            "11     610.050000  3637.133333  4247.183333\n",
            "12     349.887097  3053.919355  3403.806452\n"
          ]
        }
      ]
    },
    {
      "cell_type": "markdown",
      "source": [
        "**Insight:**\n",
        "- Secara keseluruhan berdasarkan kolom `mnth`, peminjaman meningkat dari bulan Maret - September lalu menurun setelahnya\n",
        "- Puncak peminjaman terjadi pada bulan Juni - September\n",
        "- Bulan Juni menjadi bulan dengan total peminjaman tertinggi\n",
        "- Bulan Januari menjadi bulan dengan total peminjaman terendah"
      ],
      "metadata": {
        "id": "FGdgV3SIQgt9"
      }
    },
    {
      "cell_type": "code",
      "source": [
        "# Distribusi peminjaman berdasarkan musim\n",
        "season_trend = day_df.groupby('season')[[\"casual\", \"registered\", \"cnt\"]].mean()\n",
        "print(season_trend)"
      ],
      "metadata": {
        "colab": {
          "base_uri": "https://localhost:8080/"
        },
        "collapsed": true,
        "id": "X_YKdgXSIvZq",
        "outputId": "4fcdfc18-84c4-486c-e085-e5b1603c80b8"
      },
      "execution_count": 17,
      "outputs": [
        {
          "output_type": "stream",
          "name": "stdout",
          "text": [
            "             casual   registered          cnt\n",
            "season                                       \n",
            "1        334.928177  2269.204420  2604.132597\n",
            "2       1106.097826  3886.233696  4992.331522\n",
            "3       1202.611702  4441.691489  5644.303191\n",
            "4        729.112360  3999.050562  4728.162921\n"
          ]
        }
      ]
    },
    {
      "cell_type": "markdown",
      "source": [
        "**Insight:**\n",
        "- Musim gugur (season=3) menjadi musim dengan total peminjaman tertinggi\n",
        "- Musim dingin (season=1) menjadi musim dengan total peminjaman terendah"
      ],
      "metadata": {
        "id": "yYzVhjbJRiZY"
      }
    },
    {
      "cell_type": "code",
      "source": [
        "weather_trend = day_df.groupby('weathersit')[[\"casual\", \"registered\", \"cnt\"]].mean()\n",
        "print(weather_trend)"
      ],
      "metadata": {
        "colab": {
          "base_uri": "https://localhost:8080/"
        },
        "collapsed": true,
        "id": "LzX2VESXI8h5",
        "outputId": "4bf6efd0-99e5-4fae-a7ce-ed515a3f54d7"
      },
      "execution_count": 18,
      "outputs": [
        {
          "output_type": "stream",
          "name": "stdout",
          "text": [
            "                casual   registered          cnt\n",
            "weathersit                                      \n",
            "1           964.030238  3912.755940  4876.786177\n",
            "2           687.352227  3348.510121  4035.862348\n",
            "3           185.476190  1617.809524  1803.285714\n"
          ]
        }
      ]
    },
    {
      "cell_type": "markdown",
      "source": [
        "**Insight:**\n",
        "- Cuaca cerah (weathersit=1) menjadi cuaca dengan total peminjaman tertinggi\n",
        "- Cuaca buruk (weathersit=3) menjadi cuaca dengan total peminjaman terendah"
      ],
      "metadata": {
        "id": "n-RMHyUTSNT3"
      }
    },
    {
      "cell_type": "code",
      "source": [
        "# Analisis RFM\n",
        "latest_date = day_df['dteday'].max()\n",
        "rfm_df = day_df.copy()\n",
        "rfm_df['Recency'] = (latest_date - rfm_df['dteday']).dt.days\n",
        "rfm_df['Frequency'] = rfm_df.groupby('weekday')['cnt'].transform('count')\n",
        "rfm_df['Monetary'] = rfm_df['cnt']\n",
        "rfm_data = rfm_df.groupby('weekday')[[\"Recency\", \"Frequency\", \"Monetary\"]].mean()\n",
        "print(rfm_data)"
      ],
      "metadata": {
        "colab": {
          "base_uri": "https://localhost:8080/"
        },
        "id": "A_WLr8YpJGhT",
        "outputId": "b2ec775d-05ef-459a-8893-40af71d58323"
      },
      "execution_count": 19,
      "outputs": [
        {
          "output_type": "stream",
          "name": "stdout",
          "text": [
            "         Recency  Frequency     Monetary\n",
            "weekday                                 \n",
            "0          365.0      105.0  4228.828571\n",
            "1          364.0      105.0  4338.123810\n",
            "2          366.5      104.0  4510.663462\n",
            "3          365.5      104.0  4548.538462\n",
            "4          364.5      104.0  4667.259615\n",
            "5          363.5      104.0  4690.288462\n",
            "6          366.0      105.0  4550.542857\n"
          ]
        }
      ]
    },
    {
      "cell_type": "markdown",
      "source": [
        "**Insight:**\n",
        "- Recency: Hampir sama untuk semua hari karena ini merupakan data agregat harian\n",
        "- Frequency: Frekuensi lebih tinggi di akhir pekan\n",
        "- Monetary: Hari dengan peminjaman tertinggi adalah Jumat dan Kamis"
      ],
      "metadata": {
        "id": "MsxhWJHfSld9"
      }
    },
    {
      "cell_type": "markdown",
      "source": [
        "### Explore `hour_df`"
      ],
      "metadata": {
        "id": "5XM61vsKAVHq"
      }
    },
    {
      "cell_type": "code",
      "source": [
        "# Melihat statistik deskriptif dari tabel hour_df\n",
        "print(hour_df.describe())"
      ],
      "metadata": {
        "colab": {
          "base_uri": "https://localhost:8080/"
        },
        "collapsed": true,
        "id": "BubcH__cASpS",
        "outputId": "7457732b-ead5-4988-d351-68b922812cbb"
      },
      "execution_count": 20,
      "outputs": [
        {
          "output_type": "stream",
          "name": "stdout",
          "text": [
            "          instant                         dteday        season            yr  \\\n",
            "count  17379.0000                          17379  17379.000000  17379.000000   \n",
            "mean    8690.0000  2012-01-02 04:08:34.552045568      2.501640      0.502561   \n",
            "min        1.0000            2011-01-01 00:00:00      1.000000      0.000000   \n",
            "25%     4345.5000            2011-07-04 00:00:00      2.000000      0.000000   \n",
            "50%     8690.0000            2012-01-02 00:00:00      3.000000      1.000000   \n",
            "75%    13034.5000            2012-07-02 00:00:00      3.000000      1.000000   \n",
            "max    17379.0000            2012-12-31 00:00:00      4.000000      1.000000   \n",
            "std     5017.0295                            NaN      1.106918      0.500008   \n",
            "\n",
            "               mnth            hr       holiday       weekday    workingday  \\\n",
            "count  17379.000000  17379.000000  17379.000000  17379.000000  17379.000000   \n",
            "mean       6.537775     11.546752      0.028770      3.003683      0.682721   \n",
            "min        1.000000      0.000000      0.000000      0.000000      0.000000   \n",
            "25%        4.000000      6.000000      0.000000      1.000000      0.000000   \n",
            "50%        7.000000     12.000000      0.000000      3.000000      1.000000   \n",
            "75%       10.000000     18.000000      0.000000      5.000000      1.000000   \n",
            "max       12.000000     23.000000      1.000000      6.000000      1.000000   \n",
            "std        3.438776      6.914405      0.167165      2.005771      0.465431   \n",
            "\n",
            "         weathersit          temp         atemp           hum     windspeed  \\\n",
            "count  17379.000000  17379.000000  17379.000000  17379.000000  17379.000000   \n",
            "mean       1.425283      0.496987      0.475775      0.627229      0.190098   \n",
            "min        1.000000      0.020000      0.000000      0.000000      0.000000   \n",
            "25%        1.000000      0.340000      0.333300      0.480000      0.104500   \n",
            "50%        1.000000      0.500000      0.484800      0.630000      0.194000   \n",
            "75%        2.000000      0.660000      0.621200      0.780000      0.253700   \n",
            "max        4.000000      1.000000      1.000000      1.000000      0.850700   \n",
            "std        0.639357      0.192556      0.171850      0.192930      0.122340   \n",
            "\n",
            "             casual    registered           cnt  \n",
            "count  17379.000000  17379.000000  17379.000000  \n",
            "mean      35.676218    153.786869    189.463088  \n",
            "min        0.000000      0.000000      1.000000  \n",
            "25%        4.000000     34.000000     40.000000  \n",
            "50%       17.000000    115.000000    142.000000  \n",
            "75%       48.000000    220.000000    281.000000  \n",
            "max      367.000000    886.000000    977.000000  \n",
            "std       49.305030    151.357286    181.387599  \n"
          ]
        }
      ]
    },
    {
      "cell_type": "code",
      "source": [
        "# Distribusi berdasarkan jam dalam sehari\n",
        "hourly_trend = hour_df.groupby('hr')[[\"casual\", \"registered\", \"cnt\"]].mean()\n",
        "print(hourly_trend)"
      ],
      "metadata": {
        "colab": {
          "base_uri": "https://localhost:8080/"
        },
        "collapsed": true,
        "id": "yZnBZPbHAl-e",
        "outputId": "57ac184c-244c-4c5f-b04b-df9354172416"
      },
      "execution_count": 21,
      "outputs": [
        {
          "output_type": "stream",
          "name": "stdout",
          "text": [
            "       casual  registered         cnt\n",
            "hr                                   \n",
            "0   10.158402   43.739669   53.898072\n",
            "1    6.504144   26.871547   33.375691\n",
            "2    4.772028   18.097902   22.869930\n",
            "3    2.715925    9.011478   11.727403\n",
            "4    1.253945    5.098996    6.352941\n",
            "5    1.411437   18.478382   19.889819\n",
            "6    4.161379   71.882759   76.044138\n",
            "7   11.055021  201.009629  212.064649\n",
            "8   21.679505  337.331499  359.011004\n",
            "9   30.891334  188.418157  219.309491\n",
            "10  46.477304  127.191197  173.668501\n",
            "11  59.540578  148.602476  208.143054\n",
            "12  68.293956  185.021978  253.315934\n",
            "13  72.308642  181.352538  253.661180\n",
            "14  75.567901  165.381344  240.949246\n",
            "15  74.905350  176.327846  251.233196\n",
            "16  73.745205  238.238356  311.983562\n",
            "17  74.273973  387.178082  461.452055\n",
            "18  61.120879  364.390110  425.510989\n",
            "19  48.770604  262.752747  311.523352\n",
            "20  36.233516  189.796703  226.030220\n",
            "21  28.255495  144.059066  172.314560\n",
            "22  22.252747  109.082418  131.335165\n",
            "23  15.199176   72.631868   87.831044\n"
          ]
        }
      ]
    },
    {
      "cell_type": "markdown",
      "source": [
        "**Insight:**\n",
        "- Puncak total peminjaman sepeda terjadi pada jam 17:00\n",
        "- Penyewa `registered` meningkat drastis pada jam 07:00 - 08:00 dan 16:00 - 19:00\n",
        "- Penyewa `casual` lebih banyak menyewa sepeda pada rentang jam 12:00 - 18:00\n",
        "- Jam 00:00 - 05:00 merupakan waktu dengan total peminjaman terendah"
      ],
      "metadata": {
        "id": "2tBd95_YUzs4"
      }
    },
    {
      "cell_type": "code",
      "source": [
        "# Distribusi peminjaman bedasarkan hari dalam seminggu (versi per jam)\n",
        "weekday_trend_hourly = hour_df.groupby('weekday')[[\"casual\", \"registered\", \"cnt\"]].mean()\n",
        "print(weekday_trend_hourly)"
      ],
      "metadata": {
        "colab": {
          "base_uri": "https://localhost:8080/"
        },
        "collapsed": true,
        "id": "SmYkHyHCKqBW",
        "outputId": "ab2e09ad-c49e-4bcc-ab55-9d201beee297"
      },
      "execution_count": 22,
      "outputs": [
        {
          "output_type": "stream",
          "name": "stdout",
          "text": [
            "            casual  registered         cnt\n",
            "weekday                                   \n",
            "0        56.163469  121.305356  177.468825\n",
            "1        28.553449  155.191206  183.744655\n",
            "2        23.580514  167.658377  191.238891\n",
            "3        23.159192  167.971313  191.130505\n",
            "4        24.872521  171.564144  196.436665\n",
            "5        31.458786  164.677121  196.135907\n",
            "6        61.246815  128.962978  190.209793\n"
          ]
        }
      ]
    },
    {
      "cell_type": "markdown",
      "source": [
        "**Insight:**\n",
        "- Hari Kamis menjadi hari dengan total peminjaman terbanyak\n",
        "- Hari Minggu menjadi hari dengan total peminjaman paling sedikit"
      ],
      "metadata": {
        "id": "1A2X_5aoWjKA"
      }
    },
    {
      "cell_type": "code",
      "source": [
        "# Distribusi peminjaman berdasarkan kondisi cuaca (versi per jam)\n",
        "weather_trend_hourly = hour_df.groupby('weathersit')[[\"casual\", \"registered\", \"cnt\"]].mean()\n",
        "print(weather_trend_hourly)"
      ],
      "metadata": {
        "colab": {
          "base_uri": "https://localhost:8080/"
        },
        "collapsed": true,
        "id": "Gqu7mH6rLchs",
        "outputId": "8f38534c-6258-4cf7-ec35-bedac651307e"
      },
      "execution_count": 23,
      "outputs": [
        {
          "output_type": "stream",
          "name": "stdout",
          "text": [
            "               casual  registered         cnt\n",
            "weathersit                                   \n",
            "1           40.545431  164.323841  204.869272\n",
            "2           29.595290  145.570202  175.165493\n",
            "3           16.055673   95.523608  111.579281\n",
            "4            2.666667   71.666667   74.333333\n"
          ]
        }
      ]
    },
    {
      "cell_type": "markdown",
      "source": [
        "**Insight:**\n",
        "- Cuaca cerah menjadi cuaca dengan total peminjaman tertinggi\n",
        "- Cuaca buruk menjadi cuaca dengan total peminjaman terendah"
      ],
      "metadata": {
        "id": "IRaboeBNWxlb"
      }
    },
    {
      "cell_type": "markdown",
      "source": [
        "### Explore `merge_df`"
      ],
      "metadata": {
        "id": "ci27mUkCML9I"
      }
    },
    {
      "cell_type": "code",
      "source": [
        "# Menggabungkan dataset day_df dan hour_df berdasarkan 'dteday'\n",
        "merge_df = hour_df.merge(day_df, on='dteday', suffixes=('_hour', '_day'))\n",
        "merge_df.head()"
      ],
      "metadata": {
        "colab": {
          "base_uri": "https://localhost:8080/",
          "height": 338
        },
        "collapsed": true,
        "id": "LYDcfwkfMRal",
        "outputId": "fee9a5a8-72f4-49af-b3f7-0c53024252e8"
      },
      "execution_count": 24,
      "outputs": [
        {
          "output_type": "execute_result",
          "data": {
            "text/plain": [
              "   instant_hour     dteday  season_hour  yr_hour  mnth_hour  hr  holiday_hour  \\\n",
              "0             1 2011-01-01            1        0          1   0             0   \n",
              "1             2 2011-01-01            1        0          1   1             0   \n",
              "2             3 2011-01-01            1        0          1   2             0   \n",
              "3             4 2011-01-01            1        0          1   3             0   \n",
              "4             5 2011-01-01            1        0          1   4             0   \n",
              "\n",
              "   weekday_hour  workingday_hour  weathersit_hour  ...  weekday_day  \\\n",
              "0             6                0                1  ...            6   \n",
              "1             6                0                1  ...            6   \n",
              "2             6                0                1  ...            6   \n",
              "3             6                0                1  ...            6   \n",
              "4             6                0                1  ...            6   \n",
              "\n",
              "   workingday_day  weathersit_day  temp_day  atemp_day   hum_day  \\\n",
              "0               0               2  0.344167   0.363625  0.805833   \n",
              "1               0               2  0.344167   0.363625  0.805833   \n",
              "2               0               2  0.344167   0.363625  0.805833   \n",
              "3               0               2  0.344167   0.363625  0.805833   \n",
              "4               0               2  0.344167   0.363625  0.805833   \n",
              "\n",
              "   windspeed_day  casual_day  registered_day  cnt_day  \n",
              "0       0.160446         331             654      985  \n",
              "1       0.160446         331             654      985  \n",
              "2       0.160446         331             654      985  \n",
              "3       0.160446         331             654      985  \n",
              "4       0.160446         331             654      985  \n",
              "\n",
              "[5 rows x 32 columns]"
            ],
            "text/html": [
              "\n",
              "  <div id=\"df-bf1c957c-f76f-4396-89ec-1ec8cbfce05c\" class=\"colab-df-container\">\n",
              "    <div>\n",
              "<style scoped>\n",
              "    .dataframe tbody tr th:only-of-type {\n",
              "        vertical-align: middle;\n",
              "    }\n",
              "\n",
              "    .dataframe tbody tr th {\n",
              "        vertical-align: top;\n",
              "    }\n",
              "\n",
              "    .dataframe thead th {\n",
              "        text-align: right;\n",
              "    }\n",
              "</style>\n",
              "<table border=\"1\" class=\"dataframe\">\n",
              "  <thead>\n",
              "    <tr style=\"text-align: right;\">\n",
              "      <th></th>\n",
              "      <th>instant_hour</th>\n",
              "      <th>dteday</th>\n",
              "      <th>season_hour</th>\n",
              "      <th>yr_hour</th>\n",
              "      <th>mnth_hour</th>\n",
              "      <th>hr</th>\n",
              "      <th>holiday_hour</th>\n",
              "      <th>weekday_hour</th>\n",
              "      <th>workingday_hour</th>\n",
              "      <th>weathersit_hour</th>\n",
              "      <th>...</th>\n",
              "      <th>weekday_day</th>\n",
              "      <th>workingday_day</th>\n",
              "      <th>weathersit_day</th>\n",
              "      <th>temp_day</th>\n",
              "      <th>atemp_day</th>\n",
              "      <th>hum_day</th>\n",
              "      <th>windspeed_day</th>\n",
              "      <th>casual_day</th>\n",
              "      <th>registered_day</th>\n",
              "      <th>cnt_day</th>\n",
              "    </tr>\n",
              "  </thead>\n",
              "  <tbody>\n",
              "    <tr>\n",
              "      <th>0</th>\n",
              "      <td>1</td>\n",
              "      <td>2011-01-01</td>\n",
              "      <td>1</td>\n",
              "      <td>0</td>\n",
              "      <td>1</td>\n",
              "      <td>0</td>\n",
              "      <td>0</td>\n",
              "      <td>6</td>\n",
              "      <td>0</td>\n",
              "      <td>1</td>\n",
              "      <td>...</td>\n",
              "      <td>6</td>\n",
              "      <td>0</td>\n",
              "      <td>2</td>\n",
              "      <td>0.344167</td>\n",
              "      <td>0.363625</td>\n",
              "      <td>0.805833</td>\n",
              "      <td>0.160446</td>\n",
              "      <td>331</td>\n",
              "      <td>654</td>\n",
              "      <td>985</td>\n",
              "    </tr>\n",
              "    <tr>\n",
              "      <th>1</th>\n",
              "      <td>2</td>\n",
              "      <td>2011-01-01</td>\n",
              "      <td>1</td>\n",
              "      <td>0</td>\n",
              "      <td>1</td>\n",
              "      <td>1</td>\n",
              "      <td>0</td>\n",
              "      <td>6</td>\n",
              "      <td>0</td>\n",
              "      <td>1</td>\n",
              "      <td>...</td>\n",
              "      <td>6</td>\n",
              "      <td>0</td>\n",
              "      <td>2</td>\n",
              "      <td>0.344167</td>\n",
              "      <td>0.363625</td>\n",
              "      <td>0.805833</td>\n",
              "      <td>0.160446</td>\n",
              "      <td>331</td>\n",
              "      <td>654</td>\n",
              "      <td>985</td>\n",
              "    </tr>\n",
              "    <tr>\n",
              "      <th>2</th>\n",
              "      <td>3</td>\n",
              "      <td>2011-01-01</td>\n",
              "      <td>1</td>\n",
              "      <td>0</td>\n",
              "      <td>1</td>\n",
              "      <td>2</td>\n",
              "      <td>0</td>\n",
              "      <td>6</td>\n",
              "      <td>0</td>\n",
              "      <td>1</td>\n",
              "      <td>...</td>\n",
              "      <td>6</td>\n",
              "      <td>0</td>\n",
              "      <td>2</td>\n",
              "      <td>0.344167</td>\n",
              "      <td>0.363625</td>\n",
              "      <td>0.805833</td>\n",
              "      <td>0.160446</td>\n",
              "      <td>331</td>\n",
              "      <td>654</td>\n",
              "      <td>985</td>\n",
              "    </tr>\n",
              "    <tr>\n",
              "      <th>3</th>\n",
              "      <td>4</td>\n",
              "      <td>2011-01-01</td>\n",
              "      <td>1</td>\n",
              "      <td>0</td>\n",
              "      <td>1</td>\n",
              "      <td>3</td>\n",
              "      <td>0</td>\n",
              "      <td>6</td>\n",
              "      <td>0</td>\n",
              "      <td>1</td>\n",
              "      <td>...</td>\n",
              "      <td>6</td>\n",
              "      <td>0</td>\n",
              "      <td>2</td>\n",
              "      <td>0.344167</td>\n",
              "      <td>0.363625</td>\n",
              "      <td>0.805833</td>\n",
              "      <td>0.160446</td>\n",
              "      <td>331</td>\n",
              "      <td>654</td>\n",
              "      <td>985</td>\n",
              "    </tr>\n",
              "    <tr>\n",
              "      <th>4</th>\n",
              "      <td>5</td>\n",
              "      <td>2011-01-01</td>\n",
              "      <td>1</td>\n",
              "      <td>0</td>\n",
              "      <td>1</td>\n",
              "      <td>4</td>\n",
              "      <td>0</td>\n",
              "      <td>6</td>\n",
              "      <td>0</td>\n",
              "      <td>1</td>\n",
              "      <td>...</td>\n",
              "      <td>6</td>\n",
              "      <td>0</td>\n",
              "      <td>2</td>\n",
              "      <td>0.344167</td>\n",
              "      <td>0.363625</td>\n",
              "      <td>0.805833</td>\n",
              "      <td>0.160446</td>\n",
              "      <td>331</td>\n",
              "      <td>654</td>\n",
              "      <td>985</td>\n",
              "    </tr>\n",
              "  </tbody>\n",
              "</table>\n",
              "<p>5 rows × 32 columns</p>\n",
              "</div>\n",
              "    <div class=\"colab-df-buttons\">\n",
              "\n",
              "  <div class=\"colab-df-container\">\n",
              "    <button class=\"colab-df-convert\" onclick=\"convertToInteractive('df-bf1c957c-f76f-4396-89ec-1ec8cbfce05c')\"\n",
              "            title=\"Convert this dataframe to an interactive table.\"\n",
              "            style=\"display:none;\">\n",
              "\n",
              "  <svg xmlns=\"http://www.w3.org/2000/svg\" height=\"24px\" viewBox=\"0 -960 960 960\">\n",
              "    <path d=\"M120-120v-720h720v720H120Zm60-500h600v-160H180v160Zm220 220h160v-160H400v160Zm0 220h160v-160H400v160ZM180-400h160v-160H180v160Zm440 0h160v-160H620v160ZM180-180h160v-160H180v160Zm440 0h160v-160H620v160Z\"/>\n",
              "  </svg>\n",
              "    </button>\n",
              "\n",
              "  <style>\n",
              "    .colab-df-container {\n",
              "      display:flex;\n",
              "      gap: 12px;\n",
              "    }\n",
              "\n",
              "    .colab-df-convert {\n",
              "      background-color: #E8F0FE;\n",
              "      border: none;\n",
              "      border-radius: 50%;\n",
              "      cursor: pointer;\n",
              "      display: none;\n",
              "      fill: #1967D2;\n",
              "      height: 32px;\n",
              "      padding: 0 0 0 0;\n",
              "      width: 32px;\n",
              "    }\n",
              "\n",
              "    .colab-df-convert:hover {\n",
              "      background-color: #E2EBFA;\n",
              "      box-shadow: 0px 1px 2px rgba(60, 64, 67, 0.3), 0px 1px 3px 1px rgba(60, 64, 67, 0.15);\n",
              "      fill: #174EA6;\n",
              "    }\n",
              "\n",
              "    .colab-df-buttons div {\n",
              "      margin-bottom: 4px;\n",
              "    }\n",
              "\n",
              "    [theme=dark] .colab-df-convert {\n",
              "      background-color: #3B4455;\n",
              "      fill: #D2E3FC;\n",
              "    }\n",
              "\n",
              "    [theme=dark] .colab-df-convert:hover {\n",
              "      background-color: #434B5C;\n",
              "      box-shadow: 0px 1px 3px 1px rgba(0, 0, 0, 0.15);\n",
              "      filter: drop-shadow(0px 1px 2px rgba(0, 0, 0, 0.3));\n",
              "      fill: #FFFFFF;\n",
              "    }\n",
              "  </style>\n",
              "\n",
              "    <script>\n",
              "      const buttonEl =\n",
              "        document.querySelector('#df-bf1c957c-f76f-4396-89ec-1ec8cbfce05c button.colab-df-convert');\n",
              "      buttonEl.style.display =\n",
              "        google.colab.kernel.accessAllowed ? 'block' : 'none';\n",
              "\n",
              "      async function convertToInteractive(key) {\n",
              "        const element = document.querySelector('#df-bf1c957c-f76f-4396-89ec-1ec8cbfce05c');\n",
              "        const dataTable =\n",
              "          await google.colab.kernel.invokeFunction('convertToInteractive',\n",
              "                                                    [key], {});\n",
              "        if (!dataTable) return;\n",
              "\n",
              "        const docLinkHtml = 'Like what you see? Visit the ' +\n",
              "          '<a target=\"_blank\" href=https://colab.research.google.com/notebooks/data_table.ipynb>data table notebook</a>'\n",
              "          + ' to learn more about interactive tables.';\n",
              "        element.innerHTML = '';\n",
              "        dataTable['output_type'] = 'display_data';\n",
              "        await google.colab.output.renderOutput(dataTable, element);\n",
              "        const docLink = document.createElement('div');\n",
              "        docLink.innerHTML = docLinkHtml;\n",
              "        element.appendChild(docLink);\n",
              "      }\n",
              "    </script>\n",
              "  </div>\n",
              "\n",
              "\n",
              "<div id=\"df-d1af24d1-13ad-49eb-90c4-6172c31f6206\">\n",
              "  <button class=\"colab-df-quickchart\" onclick=\"quickchart('df-d1af24d1-13ad-49eb-90c4-6172c31f6206')\"\n",
              "            title=\"Suggest charts\"\n",
              "            style=\"display:none;\">\n",
              "\n",
              "<svg xmlns=\"http://www.w3.org/2000/svg\" height=\"24px\"viewBox=\"0 0 24 24\"\n",
              "     width=\"24px\">\n",
              "    <g>\n",
              "        <path d=\"M19 3H5c-1.1 0-2 .9-2 2v14c0 1.1.9 2 2 2h14c1.1 0 2-.9 2-2V5c0-1.1-.9-2-2-2zM9 17H7v-7h2v7zm4 0h-2V7h2v10zm4 0h-2v-4h2v4z\"/>\n",
              "    </g>\n",
              "</svg>\n",
              "  </button>\n",
              "\n",
              "<style>\n",
              "  .colab-df-quickchart {\n",
              "      --bg-color: #E8F0FE;\n",
              "      --fill-color: #1967D2;\n",
              "      --hover-bg-color: #E2EBFA;\n",
              "      --hover-fill-color: #174EA6;\n",
              "      --disabled-fill-color: #AAA;\n",
              "      --disabled-bg-color: #DDD;\n",
              "  }\n",
              "\n",
              "  [theme=dark] .colab-df-quickchart {\n",
              "      --bg-color: #3B4455;\n",
              "      --fill-color: #D2E3FC;\n",
              "      --hover-bg-color: #434B5C;\n",
              "      --hover-fill-color: #FFFFFF;\n",
              "      --disabled-bg-color: #3B4455;\n",
              "      --disabled-fill-color: #666;\n",
              "  }\n",
              "\n",
              "  .colab-df-quickchart {\n",
              "    background-color: var(--bg-color);\n",
              "    border: none;\n",
              "    border-radius: 50%;\n",
              "    cursor: pointer;\n",
              "    display: none;\n",
              "    fill: var(--fill-color);\n",
              "    height: 32px;\n",
              "    padding: 0;\n",
              "    width: 32px;\n",
              "  }\n",
              "\n",
              "  .colab-df-quickchart:hover {\n",
              "    background-color: var(--hover-bg-color);\n",
              "    box-shadow: 0 1px 2px rgba(60, 64, 67, 0.3), 0 1px 3px 1px rgba(60, 64, 67, 0.15);\n",
              "    fill: var(--button-hover-fill-color);\n",
              "  }\n",
              "\n",
              "  .colab-df-quickchart-complete:disabled,\n",
              "  .colab-df-quickchart-complete:disabled:hover {\n",
              "    background-color: var(--disabled-bg-color);\n",
              "    fill: var(--disabled-fill-color);\n",
              "    box-shadow: none;\n",
              "  }\n",
              "\n",
              "  .colab-df-spinner {\n",
              "    border: 2px solid var(--fill-color);\n",
              "    border-color: transparent;\n",
              "    border-bottom-color: var(--fill-color);\n",
              "    animation:\n",
              "      spin 1s steps(1) infinite;\n",
              "  }\n",
              "\n",
              "  @keyframes spin {\n",
              "    0% {\n",
              "      border-color: transparent;\n",
              "      border-bottom-color: var(--fill-color);\n",
              "      border-left-color: var(--fill-color);\n",
              "    }\n",
              "    20% {\n",
              "      border-color: transparent;\n",
              "      border-left-color: var(--fill-color);\n",
              "      border-top-color: var(--fill-color);\n",
              "    }\n",
              "    30% {\n",
              "      border-color: transparent;\n",
              "      border-left-color: var(--fill-color);\n",
              "      border-top-color: var(--fill-color);\n",
              "      border-right-color: var(--fill-color);\n",
              "    }\n",
              "    40% {\n",
              "      border-color: transparent;\n",
              "      border-right-color: var(--fill-color);\n",
              "      border-top-color: var(--fill-color);\n",
              "    }\n",
              "    60% {\n",
              "      border-color: transparent;\n",
              "      border-right-color: var(--fill-color);\n",
              "    }\n",
              "    80% {\n",
              "      border-color: transparent;\n",
              "      border-right-color: var(--fill-color);\n",
              "      border-bottom-color: var(--fill-color);\n",
              "    }\n",
              "    90% {\n",
              "      border-color: transparent;\n",
              "      border-bottom-color: var(--fill-color);\n",
              "    }\n",
              "  }\n",
              "</style>\n",
              "\n",
              "  <script>\n",
              "    async function quickchart(key) {\n",
              "      const quickchartButtonEl =\n",
              "        document.querySelector('#' + key + ' button');\n",
              "      quickchartButtonEl.disabled = true;  // To prevent multiple clicks.\n",
              "      quickchartButtonEl.classList.add('colab-df-spinner');\n",
              "      try {\n",
              "        const charts = await google.colab.kernel.invokeFunction(\n",
              "            'suggestCharts', [key], {});\n",
              "      } catch (error) {\n",
              "        console.error('Error during call to suggestCharts:', error);\n",
              "      }\n",
              "      quickchartButtonEl.classList.remove('colab-df-spinner');\n",
              "      quickchartButtonEl.classList.add('colab-df-quickchart-complete');\n",
              "    }\n",
              "    (() => {\n",
              "      let quickchartButtonEl =\n",
              "        document.querySelector('#df-d1af24d1-13ad-49eb-90c4-6172c31f6206 button');\n",
              "      quickchartButtonEl.style.display =\n",
              "        google.colab.kernel.accessAllowed ? 'block' : 'none';\n",
              "    })();\n",
              "  </script>\n",
              "</div>\n",
              "\n",
              "    </div>\n",
              "  </div>\n"
            ],
            "application/vnd.google.colaboratory.intrinsic+json": {
              "type": "dataframe",
              "variable_name": "merge_df"
            }
          },
          "metadata": {},
          "execution_count": 24
        }
      ]
    },
    {
      "cell_type": "code",
      "source": [
        "# Menampilkan informasi dataset gabungan\n",
        "merge_df.info()"
      ],
      "metadata": {
        "colab": {
          "base_uri": "https://localhost:8080/"
        },
        "collapsed": true,
        "id": "ew9xCJo-Mhwm",
        "outputId": "44690cdd-049b-44c9-da88-357faa9fa016"
      },
      "execution_count": 25,
      "outputs": [
        {
          "output_type": "stream",
          "name": "stdout",
          "text": [
            "<class 'pandas.core.frame.DataFrame'>\n",
            "RangeIndex: 17379 entries, 0 to 17378\n",
            "Data columns (total 32 columns):\n",
            " #   Column           Non-Null Count  Dtype         \n",
            "---  ------           --------------  -----         \n",
            " 0   instant_hour     17379 non-null  int64         \n",
            " 1   dteday           17379 non-null  datetime64[ns]\n",
            " 2   season_hour      17379 non-null  int64         \n",
            " 3   yr_hour          17379 non-null  int64         \n",
            " 4   mnth_hour        17379 non-null  int64         \n",
            " 5   hr               17379 non-null  int64         \n",
            " 6   holiday_hour     17379 non-null  int64         \n",
            " 7   weekday_hour     17379 non-null  int64         \n",
            " 8   workingday_hour  17379 non-null  int64         \n",
            " 9   weathersit_hour  17379 non-null  int64         \n",
            " 10  temp_hour        17379 non-null  float64       \n",
            " 11  atemp_hour       17379 non-null  float64       \n",
            " 12  hum_hour         17379 non-null  float64       \n",
            " 13  windspeed_hour   17379 non-null  float64       \n",
            " 14  casual_hour      17379 non-null  int64         \n",
            " 15  registered_hour  17379 non-null  int64         \n",
            " 16  cnt_hour         17379 non-null  int64         \n",
            " 17  instant_day      17379 non-null  int64         \n",
            " 18  season_day       17379 non-null  int64         \n",
            " 19  yr_day           17379 non-null  int64         \n",
            " 20  mnth_day         17379 non-null  int64         \n",
            " 21  holiday_day      17379 non-null  int64         \n",
            " 22  weekday_day      17379 non-null  int64         \n",
            " 23  workingday_day   17379 non-null  int64         \n",
            " 24  weathersit_day   17379 non-null  int64         \n",
            " 25  temp_day         17379 non-null  float64       \n",
            " 26  atemp_day        17379 non-null  float64       \n",
            " 27  hum_day          17379 non-null  float64       \n",
            " 28  windspeed_day    17379 non-null  float64       \n",
            " 29  casual_day       17379 non-null  int64         \n",
            " 30  registered_day   17379 non-null  int64         \n",
            " 31  cnt_day          17379 non-null  int64         \n",
            "dtypes: datetime64[ns](1), float64(8), int64(23)\n",
            "memory usage: 4.2 MB\n"
          ]
        }
      ]
    },
    {
      "cell_type": "code",
      "source": [
        "# Melihat korelasi antara peminjaman per jam dengan variabel lainnya\n",
        "correlation_matrix_merged = merge_df.corr(numeric_only=True)\n",
        "correlation_with_cnt_hour = correlation_matrix_merged['cnt_hour'].sort_values(ascending=False)\n",
        "\n",
        "print(correlation_with_cnt_hour)"
      ],
      "metadata": {
        "colab": {
          "base_uri": "https://localhost:8080/"
        },
        "id": "24TlXF_6NUTk",
        "outputId": "325a9b36-deef-44b2-b4d2-115224e9bf33"
      },
      "execution_count": 26,
      "outputs": [
        {
          "output_type": "stream",
          "name": "stdout",
          "text": [
            "cnt_hour           1.000000\n",
            "registered_hour    0.972151\n",
            "casual_hour        0.694564\n",
            "cnt_day            0.437289\n",
            "registered_day     0.412720\n",
            "temp_hour          0.404772\n",
            "atemp_hour         0.400929\n",
            "hr                 0.394071\n",
            "casual_day         0.292866\n",
            "instant_hour       0.278379\n",
            "instant_day        0.277753\n",
            "atemp_day          0.274911\n",
            "temp_day           0.273276\n",
            "yr_day             0.250495\n",
            "yr_hour            0.250495\n",
            "season_day         0.178056\n",
            "season_hour        0.178056\n",
            "mnth_hour          0.120638\n",
            "mnth_day           0.120638\n",
            "windspeed_hour     0.093234\n",
            "workingday_day     0.030284\n",
            "workingday_hour    0.030284\n",
            "weekday_day        0.026900\n",
            "weekday_hour       0.026900\n",
            "holiday_day       -0.030927\n",
            "holiday_hour      -0.030927\n",
            "hum_day           -0.040465\n",
            "windspeed_day     -0.100367\n",
            "weathersit_day    -0.127413\n",
            "weathersit_hour   -0.142426\n",
            "hum_hour          -0.322911\n",
            "Name: cnt_hour, dtype: float64\n"
          ]
        }
      ]
    },
    {
      "cell_type": "markdown",
      "source": [
        "**Insight:**\n",
        "- Jumlah peminjaman per jam atau `cnt_hour` sangat berkorelasi dengan penyewa terdaftar atau `registered_hour` yang mana mayoritas peminjaman berasal dari pelanggan tetap.\n",
        "- Suhu `temp_hour` memiliki korelasi positif dengan jumlah peminjaman. semakin hangat suhu semakin banyak orang menyewa sepeda. Tetapi ketika suhu terlalu panas atau dingin, peminjaman cenderung menurun.\n",
        "- Jam `hr` menunjukkan tren yang sangat khas dengan `cnt_hour`, dengan jam sibuk pagi dan sore\n",
        "- `merge_df` menunjukkan bahwa musim dan cuaca tetap memengaruhi pola per jam"
      ],
      "metadata": {
        "id": "jXl2jtZZYUJ1"
      }
    },
    {
      "cell_type": "code",
      "source": [
        "# Melihat korelasi antara 'casual_hour' dan 'registered_hour' versi per jam\n",
        "correlation_casual_registered = merge_df[\"casual_hour\"].corr(merge_df[\"registered_hour\"])\n",
        "print(correlation_casual_registered)"
      ],
      "metadata": {
        "colab": {
          "base_uri": "https://localhost:8080/"
        },
        "id": "l0Yt_C3Tp1O6",
        "outputId": "3e7b5df9-de00-4e46-8755-05509a75c5bc"
      },
      "execution_count": 27,
      "outputs": [
        {
          "output_type": "stream",
          "name": "stdout",
          "text": [
            "0.5066177004294634\n"
          ]
        }
      ]
    },
    {
      "cell_type": "markdown",
      "source": [
        "**Insight:**\n",
        "- Korelasi `0.51` menunjukkan hubungan sedang antara penyewa `casual_hour` dan `registered_hour`\n",
        "- Hal ini berarti memperlihatkan bahwa ada jam tertentu di mana kedua kelompok menyewa sepeda bersama-sama, ada juga saat di mana hanya satu kelompok saja yang dominan"
      ],
      "metadata": {
        "id": "l5iZnxz4vTRi"
      }
    },
    {
      "cell_type": "code",
      "source": [
        "# Melihat korelasi antara `temp_hour` dan 'hum_hour` versi per jam\n",
        "correlation_temp_humidity = merge_df[\"temp_hour\"].corr(merge_df[\"hum_hour\"])\n",
        "print(correlation_temp_humidity)"
      ],
      "metadata": {
        "colab": {
          "base_uri": "https://localhost:8080/"
        },
        "id": "m_V_9y2PqyFo",
        "outputId": "c5f141bc-a3c8-431b-8dfa-17304fac09e3"
      },
      "execution_count": 28,
      "outputs": [
        {
          "output_type": "stream",
          "name": "stdout",
          "text": [
            "-0.06988139105119354\n"
          ]
        }
      ]
    },
    {
      "cell_type": "markdown",
      "source": [
        "**Insight:**\n",
        "- Korelasi `0.07` menunjukkan hampir tidak ada hubungan antara suhu `temp_hour` dan kelembaban `hum_hour`\n",
        "- Hal ini berarti bahwa kelembaban udara tidak terlalu dipengaruhi oleh suhu, yang mana kelembaban bisa tinggi atau rendah tanpa bergantung pada suhu yang hangat atau dingin"
      ],
      "metadata": {
        "id": "Hb7wwtegwHnG"
      }
    },
    {
      "cell_type": "code",
      "source": [
        "# Melihat korelasi antara `workingday_hour` dan `hr` versi per jam\n",
        "correlation_workingday_hr = merge_df[\"workingday_hour\"].corr(merge_df[\"hr\"])\n",
        "print(correlation_workingday_hr)"
      ],
      "metadata": {
        "colab": {
          "base_uri": "https://localhost:8080/"
        },
        "collapsed": true,
        "id": "OZ4hUmI7trqJ",
        "outputId": "3cc90971-8eab-486f-95cd-056bc4dbcf47"
      },
      "execution_count": 29,
      "outputs": [
        {
          "output_type": "stream",
          "name": "stdout",
          "text": [
            "0.0022849981041432777\n"
          ]
        }
      ]
    },
    {
      "cell_type": "markdown",
      "source": [
        "**Insight:**\n",
        "- Korelasi `0.002` berarti tidak ada hubungan antara jam `hr` dan apakah hari tersebut adalah hari kerja `workingday_hour`\n",
        "- Ini berarti bahwa pola peminjaman berdasarkan jam tidak berubah secara signifikan antara hari kerja dan akhir pekan"
      ],
      "metadata": {
        "id": "5hb0_CpUwr10"
      }
    },
    {
      "cell_type": "code",
      "source": [
        "# Melihat distribusi peminjaman berdasarkan cuaca dalam per jam\n",
        "pivot_weather = merge_df.pivot_table(values='cnt_hour', index='hr', columns='weathersit_day', aggfunc='mean')\n",
        "print(pivot_weather)"
      ],
      "metadata": {
        "colab": {
          "base_uri": "https://localhost:8080/"
        },
        "collapsed": true,
        "id": "pmTtRkFyt4sP",
        "outputId": "1f970cec-6c7f-4b2a-e498-dc844d433dc1"
      },
      "execution_count": 30,
      "outputs": [
        {
          "output_type": "stream",
          "name": "stdout",
          "text": [
            "weathersit_day           1           2           3\n",
            "hr                                                \n",
            "0                56.321739   51.367347   30.333333\n",
            "1                34.963043   31.522449   18.842105\n",
            "2                23.580574   22.316872   13.000000\n",
            "3                12.397291   10.772152    7.588235\n",
            "4                 6.485459    6.193966    5.111111\n",
            "5                20.887912   18.640496   12.300000\n",
            "6                79.991304   70.889796   48.400000\n",
            "7               226.363636  193.836735  105.050000\n",
            "8               377.824675  338.175510  179.650000\n",
            "9               229.987013  207.579592  116.350000\n",
            "10              187.285714  156.118367   74.100000\n",
            "11              226.290043  184.342857   80.500000\n",
            "12              276.764069  222.495935   90.750000\n",
            "13              278.038961  221.639676   86.000000\n",
            "14              264.538961  209.400810   85.650000\n",
            "15              274.413420  221.178138   86.950000\n",
            "16              339.969762  276.016194  108.300000\n",
            "17              498.017279  415.805668  178.700000\n",
            "18              459.572354  380.983740  172.000000\n",
            "19              337.438445  276.337398  135.578947\n",
            "20              247.041037  196.227642   99.894737\n",
            "21              188.043197  149.959350   78.473684\n",
            "22              143.276458  113.731707   68.263158\n",
            "23               95.090713   77.609756   43.263158\n"
          ]
        }
      ]
    },
    {
      "cell_type": "markdown",
      "source": [
        "**Insight:**\n",
        "- Saat cuaca cerah `weathersit_day=1`, jumlah peminjaman lebih tinggi dibanding saat cuaca buruk\n",
        "- Puncak peminjaman terjadi pada jam 08:00 dan 17:00 di semua kondisi cuaca, tetapi jauh lebih rendah saat cuaca buruk `weathersit_day=3`\n",
        "- Pada dini hari yaitu jam 00:00 - 05:00, jumlah peminjaman tetap rendah di semua kondisi cuaca\n",
        "- Perbedaan jumlah peminjaman terbesar terjadi di jam sibuk yaitu 07:00 - 19:00, di mana cuaca buruk `weathersit_day=3` sangat menurunkan jumlah peminjaman"
      ],
      "metadata": {
        "id": "sAD996C7xU0T"
      }
    },
    {
      "cell_type": "code",
      "source": [
        "# Melihat distribusi pola peminjaman berdasarkan hari dalam seminggu dan jam\n",
        "pivot_weekday_hour = merge_df.pivot_table(values='cnt_hour', index='hr', columns='weekday_day', aggfunc='mean')\n",
        "print(pivot_weekday_hour)"
      ],
      "metadata": {
        "colab": {
          "base_uri": "https://localhost:8080/"
        },
        "collapsed": true,
        "id": "eWBRlQjnNHxZ",
        "outputId": "8f4d9d2e-e8b5-40c1-f725-a8e996ad2c01"
      },
      "execution_count": 31,
      "outputs": [
        {
          "output_type": "stream",
          "name": "stdout",
          "text": [
            "weekday_day           0           1           2           3           4  \\\n",
            "hr                                                                        \n",
            "0             93.990385   34.009524   27.623762   34.557692   39.271845   \n",
            "1             77.432692   17.307692   12.540000   15.336538   17.223301   \n",
            "2             61.627451   10.313131    6.801980    7.813725    9.156863   \n",
            "3             31.144231    5.113402    4.152174    4.888889    5.071429   \n",
            "4              9.362745    5.785714    5.131313    4.968750    5.280000   \n",
            "5              8.693878   21.653846   24.455446   25.750000   25.912621   \n",
            "6             14.495146   85.865385  106.500000  107.807692  107.436893   \n",
            "7             33.104762  248.538462  299.696078  303.980769  304.737864   \n",
            "8             83.857143  412.192308  471.784314  488.326923  488.572816   \n",
            "9            156.542857  218.442308  236.450980  238.528846  240.873786   \n",
            "10           258.580952  139.028846  129.225490  131.894231  132.563107   \n",
            "11           315.380952  163.692308  146.313725  152.201923  158.834951   \n",
            "12           372.961905  207.509615  182.776699  193.903846  199.514563   \n",
            "13           374.933333  205.615385  182.990385  185.826923  196.436893   \n",
            "14           363.628571  192.701923  168.365385  170.548077  177.563107   \n",
            "15           353.933333  202.365385  186.903846  181.288462  196.475728   \n",
            "16           355.400000  284.451923  286.701923  272.961538  286.298077   \n",
            "17           318.771429  502.394231  544.278846  513.144231  527.346154   \n",
            "18           272.628571  481.346154  517.567308  494.029126  502.096154   \n",
            "19           225.476190  344.576923  353.923077  357.504854  358.451923   \n",
            "20           168.028571  242.076923  253.192308  256.660194  268.913462   \n",
            "21           127.647619  174.538462  186.230769  194.669903  197.884615   \n",
            "22            94.123810  115.759615  132.278846  143.689320  147.240385   \n",
            "23            61.895238   65.403846   76.173077   83.737864   96.750000   \n",
            "\n",
            "weekday_day           5           6  \n",
            "hr                                   \n",
            "0             52.432692   94.304762  \n",
            "1             24.721154   67.780952  \n",
            "2             12.740385   50.495238  \n",
            "3              6.598039   22.885714  \n",
            "4              6.072165    7.657143  \n",
            "5             23.903846    8.291262  \n",
            "6             90.028846   21.000000  \n",
            "7            254.326923   45.961905  \n",
            "8            462.278846  114.476190  \n",
            "9            258.990385  186.790476  \n",
            "10           157.730769  263.723810  \n",
            "11           188.115385  328.609524  \n",
            "12           237.644231  375.380952  \n",
            "13           241.471154  385.371429  \n",
            "14           229.365385  381.333333  \n",
            "15           252.461538  382.428571  \n",
            "16           330.990385  366.142857  \n",
            "17           492.413462  334.409524  \n",
            "18           420.990385  292.048077  \n",
            "19           302.067308  239.932692  \n",
            "20           213.326923  180.865385  \n",
            "21           169.875000  156.000000  \n",
            "22           147.067308  139.663462  \n",
            "23           115.211538  115.855769  \n"
          ]
        }
      ]
    },
    {
      "cell_type": "markdown",
      "source": [
        "**Insight:**\n",
        "- Hari kerja `weekday_day=1-5` memiliki puncak peminjaman yang tinggi pada jam 07:00 - 09:00 dan 17:00 - 19:00\n",
        "- Akhir pekan `weekday_day=0 dan 6` memiliki pola peminjaman yang lebih merata sepanjang hari"
      ],
      "metadata": {
        "id": "T_WJTTg0P1qk"
      }
    },
    {
      "cell_type": "code",
      "source": [
        "# Melihat perbandingan peminjaman antara hari libur dan hari kerja\n",
        "pivot_holiday_hour = merge_df.pivot_table(values='cnt_hour', index='hr', columns='holiday_day', aggfunc='mean')\n",
        "print(pivot_holiday_hour)"
      ],
      "metadata": {
        "colab": {
          "base_uri": "https://localhost:8080/"
        },
        "collapsed": true,
        "id": "f8S5c7bEN3rP",
        "outputId": "ef37a905-235d-4c48-9136-3be5655c12b7"
      },
      "execution_count": 32,
      "outputs": [
        {
          "output_type": "stream",
          "name": "stdout",
          "text": [
            "holiday_day           0           1\n",
            "hr                                 \n",
            "0             53.791489   57.476190\n",
            "1             33.210526   38.904762\n",
            "2             22.791066   25.476190\n",
            "3             11.730486   11.611111\n",
            "4              6.367799    5.850000\n",
            "5             20.169540   10.619048\n",
            "6             77.468750   28.285714\n",
            "7            215.929178   82.142857\n",
            "8            364.617564  170.523810\n",
            "9            220.740793  171.190476\n",
            "10           172.781870  203.476190\n",
            "11           206.941926  248.523810\n",
            "12           252.311174  287.142857\n",
            "13           252.330508  298.523810\n",
            "14           239.604520  286.285714\n",
            "15           250.820621  265.142857\n",
            "16           313.159379  272.285714\n",
            "17           466.437236  293.142857\n",
            "18           430.166902  268.761905\n",
            "19           314.189533  221.761905\n",
            "20           227.458274  177.952381\n",
            "21           173.123055  145.095238\n",
            "22           132.002829  108.857143\n",
            "23            88.719943   57.904762\n"
          ]
        }
      ]
    },
    {
      "cell_type": "markdown",
      "source": [
        "**Insight:**\n",
        "- Jumlah peminjaman di hari libur lebih rendah dibanding hari kerja, terutama pada jam sibuk\n",
        "- Hari kerja memiliki lonjakan signifikan pada jam 07:00 - 09:00 dan 17:00 - 19:00, sedangkan hari libur lebih stabil di sepanjang hari\n",
        "- Jumlah peminjaman tertinggi di hari libur terjadi pada siang hari yaitu pada jam 12:00 - 16:00"
      ],
      "metadata": {
        "id": "52xlcSzuQ5D5"
      }
    },
    {
      "cell_type": "code",
      "source": [
        "# Melihat pengaruh musim terhadap peminjaman di berbagai jam\n",
        "pivot_season_hour = merge_df.pivot_table(values='cnt_hour', index='hr', columns='season_day', aggfunc='mean')\n",
        "print(pivot_season_hour)"
      ],
      "metadata": {
        "colab": {
          "base_uri": "https://localhost:8080/"
        },
        "collapsed": true,
        "id": "Xb_ytuluOY29",
        "outputId": "341a311b-96f1-4520-9161-5bc1ae5568e4"
      },
      "execution_count": 33,
      "outputs": [
        {
          "output_type": "stream",
          "name": "stdout",
          "text": [
            "season_day           1           2           3           4\n",
            "hr                                                        \n",
            "0            27.404494   56.842391   73.914439   56.333333\n",
            "1            18.140449   35.222826   43.720430   35.920455\n",
            "2            12.794118   23.380435   30.731183   23.765714\n",
            "3             7.102564   11.450549   15.752688   11.861272\n",
            "4             3.181818    6.211111    8.240642    7.267045\n",
            "5            10.701754   19.169399   26.454545   22.590909\n",
            "6            40.792135   79.070652  101.315508   81.681818\n",
            "7           115.391061  221.483696  276.595745  231.607955\n",
            "8           235.167598  380.135870  421.297872  396.346591\n",
            "9           147.016760  233.983696  254.930851  239.443182\n",
            "10          100.217877  189.777174  214.920213  187.465909\n",
            "11          120.530726  231.440217  251.696809  226.369318\n",
            "12          150.727778  278.543478  300.308511  281.664773\n",
            "13          156.527778  282.728261  296.042553  277.209040\n",
            "14          147.805556  265.777174  282.234043  266.011299\n",
            "15          155.655556  279.250000  288.409574  279.819209\n",
            "16          182.314917  346.907609  369.765957  346.903955\n",
            "17          263.977901  518.847826  572.138298  486.158192\n",
            "18          239.500000  483.173913  547.219251  426.146893\n",
            "19          165.761111  358.663043  419.160428  297.033898\n",
            "20          117.838889  256.983696  312.860963  212.141243\n",
            "21           91.650000  191.554348  241.427807  161.327684\n",
            "22           69.111111  146.114130  184.042781  123.564972\n",
            "23           44.411111   95.983696  122.919786   86.440678\n"
          ]
        }
      ]
    },
    {
      "cell_type": "markdown",
      "source": [
        "**Insight:**\n",
        "- Musim gugur `season_day=3` memiliki jumlah peminjaman tertinggi di hampir semua jam\n",
        "- Musim dingin `season_day=1` memiliki jumlah peminjaman terendah di tiap jam nya\n",
        "- Musim panas `season_day=2` dan musim semi `season_day=4` memiliki jumlah peminjaman yang cukup tinggi, namun sedikit lebih rendah dibanding musim gugur"
      ],
      "metadata": {
        "id": "MJwYCvnLRtz0"
      }
    },
    {
      "cell_type": "markdown",
      "metadata": {
        "id": "zsyZjqak8DC2"
      },
      "source": [
        "## Visualization & Explanatory Analysis"
      ]
    },
    {
      "cell_type": "markdown",
      "metadata": {
        "id": "HZxOiQ6n8DC2"
      },
      "source": [
        "### Pertanyaan 1: Bagaimana segmentasi pengguna berdasarkan pola peminjaman?"
      ]
    },
    {
      "cell_type": "code",
      "execution_count": 34,
      "metadata": {
        "id": "1swJUdAD8DC2",
        "colab": {
          "base_uri": "https://localhost:8080/",
          "height": 564
        },
        "outputId": "3a078a8d-accc-4c3e-aff8-281ad91b5d67"
      },
      "outputs": [
        {
          "output_type": "display_data",
          "data": {
            "text/plain": [
              "<Figure size 1200x600 with 1 Axes>"
            ],
            "image/png": "[encoded data removed]"
          },
          "metadata": {}
        }
      ],
      "source": [
        "# Plot jumlah peminjaman casual vs registered berdasarkan jam\n",
        "plt.figure(figsize=(12, 6))\n",
        "sns.lineplot(data=hour_df, x=\"hr\", y=\"casual\", label=\"Casual Users\", marker=\"o\")\n",
        "sns.lineplot(data=hour_df, x=\"hr\", y=\"registered\", label=\"Registered Users\", marker=\"o\")\n",
        "plt.xlabel(\"Jam\")\n",
        "plt.ylabel(\"Jumlah Peminjaman\")\n",
        "plt.title(\"Pola Peminjaman Sepeda Berdasarkan Jam\")\n",
        "plt.legend()\n",
        "plt.show()"
      ]
    },
    {
      "cell_type": "markdown",
      "source": [
        "**Insight:**\n",
        "- Terdapat 2 puncak peminjaman sepeda yang sangat jelas, yaitu pada pagi hari sekitar pukul `08:00` dan sore hari sekitar pukul `17:00 - 18:00`, yang mana pola ini mengindikasikan bahwa banyak pengguna sepeda menggunakan layanan untuk perjalanan berangkat dan pulang kerja/sekolah\n",
        "- Aktivitas peminjaman sepeda lebih rendah pada tengah malam hingga dini hari, yang dapat diasumsikan sebagai waktu istirahat"
      ],
      "metadata": {
        "id": "HE9-_3MooU6i"
      }
    },
    {
      "cell_type": "markdown",
      "metadata": {
        "id": "DgHI7CiU8DC2"
      },
      "source": [
        "### Pertanyaan 2: Bagaimana perilaku pelanggan berdasarkan Recency, Frequency, dan Monetary?"
      ]
    },
    {
      "cell_type": "code",
      "execution_count": 35,
      "metadata": {
        "id": "Go0lCsvO8DC2",
        "colab": {
          "base_uri": "https://localhost:8080/",
          "height": 346
        },
        "outputId": "5570d720-4221-4ef7-b764-08b4635a1c94"
      },
      "outputs": [
        {
          "output_type": "display_data",
          "data": {
            "text/plain": [
              "<Figure size 1800x500 with 3 Axes>"
            ],
            "image/png": "[encoded data removed]"
          },
          "metadata": {}
        }
      ],
      "source": [
        "# Konfigurasi ukuran visualisasi\n",
        "fig, ax = plt.subplots(1, 3, figsize=(18, 5))\n",
        "\n",
        "\n",
        "color = \"#1f77b4\"\n",
        "\n",
        "# Histogram Recency\n",
        "recency_days = (day_df[\"dteday\"].max() - day_df[\"dteday\"]).dt.days\n",
        "sns.histplot(recency_days, bins=30, kde=True, color=color, ax=ax[0])\n",
        "ax[0].set_title(\"Distribusi Recency\")\n",
        "ax[0].set_xlabel(\"Hari Sejak Peminjaman Terakhir\")\n",
        "ax[0].set_ylabel(\"Frekuensi Pelanggan\")\n",
        "\n",
        "# Barplot Frequency (Jumlah Hari Peminjaman Per Kelompok)\n",
        "frequency_data = day_df.groupby(\"weekday\")[\"dteday\"].count().reset_index()\n",
        "sns.barplot(x=\"weekday\", y=\"dteday\", data=frequency_data, color=color, ax=ax[1])\n",
        "ax[1].set_title(\"Frekuensi Peminjaman Berdasarkan Hari\")\n",
        "ax[1].set_xlabel(\"Hari dalam Seminggu\")\n",
        "ax[1].set_ylabel(\"Jumlah Minggu Peminjaman\")\n",
        "\n",
        "# Barplot Monetary (Total Jumlah Peminjaman)\n",
        "monetary_data = day_df.groupby(\"weekday\")[\"cnt\"].sum().reset_index()\n",
        "sns.barplot(x=\"weekday\", y=\"cnt\", data=monetary_data, color=color, ax=ax[2])\n",
        "ax[2].set_title(\"Total Peminjaman Berdasarkan Hari\")\n",
        "ax[2].set_xlabel(\"Hari dalam Seminggu\")\n",
        "ax[2].set_ylabel(\"Total Peminjaman\")\n",
        "\n",
        "plt.tight_layout()\n",
        "plt.show()"
      ]
    },
    {
      "cell_type": "markdown",
      "source": [
        "**Insight:**\n",
        "- `Recency` menunjukkan distribusi yang cukup merata untuk persebaran pelanggan.\n",
        "- `Frequency` memperlihatkan bahwa mayoritas pelanggan memiliki jumlah hari peminjaman yang relatif seragam setiap minggunya\n",
        "- `Monetary` menunjukkan bahwa total peminjaman dalam setiap harinya relatif tinggi dengan puncak tertingginya pada hari Kamis dan Jumat"
      ],
      "metadata": {
        "id": "-KD229Whoa7K"
      }
    },
    {
      "cell_type": "markdown",
      "source": [
        "### Pertanyaan 3: Bagaimana pengaruh cuaca dan musim terhadap jumlah peminjaman sepeda?"
      ],
      "metadata": {
        "id": "ZYinPvP6UmRm"
      }
    },
    {
      "cell_type": "code",
      "source": [
        "# Boxplot jumlah peminjaman berdasarkan kondisi cuaca\n",
        "\n",
        "plt.figure(figsize=(10, 6))\n",
        "sns.boxplot(\n",
        "    x=\"weathersit_hour\", y=\"cnt_day\", data=merge_df,\n",
        "    hue=\"weathersit_hour\", palette=[\"#1f3c88\", \"#72a2c0\", \"#ff7f0e\", \"#d62728\"], legend=False\n",
        ")\n",
        "plt.xlabel(\"Kondisi Cuaca\")\n",
        "plt.ylabel(\"Jumlah Peminjaman\")\n",
        "plt.title(\"Distribusi Peminjaman Berdasarkan Kondisi Cuaca\")\n",
        "plt.show()"
      ],
      "metadata": {
        "colab": {
          "base_uri": "https://localhost:8080/",
          "height": 564
        },
        "collapsed": true,
        "id": "uRpuXvXdUd7z",
        "outputId": "29582e03-a5b0-42c8-ec68-226e9ebe4692"
      },
      "execution_count": 40,
      "outputs": [
        {
          "output_type": "display_data",
          "data": {
            "text/plain": [
              "<Figure size 1000x600 with 1 Axes>"
            ],
            "image/png": "[encoded data removed]"
          },
          "metadata": {}
        }
      ]
    },
    {
      "cell_type": "markdown",
      "source": [
        "**Insight:**\n",
        "- Kondisi cuaca yang lebih cerah `kategori 1 dan 2` menunjukkan jumlah lebih tinggi dibandingkan cuaca buruk `kategori 3`\n",
        "- Hal ini menunjukkan bahwa cuaca sangat memengaruhi keputusan pelangggan dalam menggunakan layanan sepeda\n",
        "- Pada kondisi cuaca yang lebih buruk, jumlah peminjaman cenderung menurun secara signifikan"
      ],
      "metadata": {
        "id": "FWX_V9gHoccn"
      }
    },
    {
      "cell_type": "code",
      "source": [
        "# Boxplot jumlah peminjaman berdasarkan musim\n",
        "\n",
        "plt.figure(figsize=(10, 6))\n",
        "sns.boxplot(x=\"season\", y=\"cnt\", data=day_df, hue=\"season\",palette=[\"#2ca02c\", \"#ff7f0e\", \"#d62728\", \"#9467bd\"], legend=False)\n",
        "plt.xlabel(\"Musim\")\n",
        "plt.ylabel(\"Jumlah Peminjaman\")\n",
        "plt.title(\"Distribusi Peminjaman Berdasarkan Musim\")\n",
        "plt.show()"
      ],
      "metadata": {
        "colab": {
          "base_uri": "https://localhost:8080/",
          "height": 564
        },
        "collapsed": true,
        "id": "h4RqRuxcVVN4",
        "outputId": "652d13eb-78c6-48a7-b264-e93800aca86a"
      },
      "execution_count": 37,
      "outputs": [
        {
          "output_type": "display_data",
          "data": {
            "text/plain": [
              "<Figure size 1000x600 with 1 Axes>"
            ],
            "image/png": "[encoded data removed]"
          },
          "metadata": {}
        }
      ]
    },
    {
      "cell_type": "markdown",
      "source": [
        "**Insight:**\n",
        "- Musim semi dan panas `kategori 2 dan 3` menunjukkan jumlah peminjaman tertinggi dibandingkan musim lainnya\n",
        "- Hal ini menunjukkan bahwa cuaca sangat memengaruhi keputusan pelanggan dalam menggunakan layanan sepeda\n",
        "- pada kondisi cuaca yang lebih buruk, jumlah peminjaman cenderung menurun secara signifikan"
      ],
      "metadata": {
        "id": "WmhFVpRIogAb"
      }
    },
    {
      "cell_type": "markdown",
      "source": [
        "### Pertanyaan 4: Apakah ada perbedaan pola peminjaman antara hari kerja dan akhir pekan?"
      ],
      "metadata": {
        "id": "66LZrKcCViu_"
      }
    },
    {
      "cell_type": "code",
      "source": [
        "# Lineplot perbandingan Weekdays dan Weekends\n",
        "plt.figure(figsize=(12, 6))\n",
        "sns.lineplot(data=hour_df[hour_df[\"workingday\"] == 1], x=\"hr\", y=\"cnt\", label=\"Hari Kerja\", marker=\"o\")\n",
        "sns.lineplot(data=hour_df[hour_df[\"workingday\"] == 0], x=\"hr\", y=\"cnt\", label=\"Akhir Pekan\", marker=\"o\")\n",
        "plt.xlabel(\"Jam\")\n",
        "plt.ylabel(\"Jumlah Peminjaman\")\n",
        "plt.title(\"Perbedaan Pola Peminjaman: Weekdays vs Weekends\")\n",
        "plt.legend()\n",
        "plt.show()"
      ],
      "metadata": {
        "colab": {
          "base_uri": "https://localhost:8080/",
          "height": 564
        },
        "id": "R6d0IIwwVjVe",
        "outputId": "548b22cf-ba59-42e7-e851-049b681027f5"
      },
      "execution_count": 41,
      "outputs": [
        {
          "output_type": "display_data",
          "data": {
            "text/plain": [
              "<Figure size 1200x600 with 1 Axes>"
            ],
            "image/png": "[encoded data removed]"
          },
          "metadata": {}
        }
      ]
    },
    {
      "cell_type": "markdown",
      "source": [
        "**Insight:**\n",
        "- `Weekdays` memiliki dua puncak yaitu jam 08:00 dan 17:00, yang mengindikasikan penggunaan sepeda sebagai transportasi ke kantor atau sekolah\n",
        "- `Weekends` memiliki pola yang lebih merata, dengan puncak lebih landai di siang hingga sore hari."
      ],
      "metadata": {
        "id": "_0-36BDLklRg"
      }
    },
    {
      "cell_type": "markdown",
      "metadata": {
        "id": "_WeHlCeX8DC2"
      },
      "source": [
        "## Conclusion"
      ]
    },
    {
      "cell_type": "markdown",
      "metadata": {
        "id": "ZTcyR48Y8DC2"
      },
      "source": [
        "### Conclusion pertanyaan 1: Bagaimana segmentasi pengguna berdasarkan pola peminjaman?\n",
        "\n",
        "#### `Registered Users`:\n",
        "- Peminjaman terjadi secara rutin dan cenderung mengikuti pola transportasi harian.\n",
        "- Terdapat dua puncak peminjaman yang jelas pada hari kerja, yaitu pagi sekitar pukul 08:00 dan sore sekitar pukul 17:00-18:00.\n",
        "- Aktivitas peminjaman lebih rendah di akhir pekan dibandingkan hari kerja.\n",
        "\n",
        "#### `Casual Users`:\n",
        "-\tPola peminjaman lebih fleksibel dan tersebar sepanjang hari.\n",
        "- Puncak peminjaman terjadi pada siang hingga sore hari, terutama saat akhir pekan.\n",
        "- Kemungkinan besar menggunakan sepeda untuk rekreasi atau aktivitas santai daripada transportasi rutin.\n",
        "\n",
        "Kesimpulannya, `registered users` cenderung menggunakan layanan untuk kebutuhan transportasi reguler, sementara `casual users` lebih banyak menggunakan sepeda untuk tujuan rekreasi.\n",
        "\n",
        "### Conclusion pertanyaan 2: Bagaimana perilaku pelanggan berdasarkan Recency, Frequency, dan Monetary?\n",
        "\n",
        "#### `Recency`:\n",
        "- Distribusi tampak cukup merata, menunjukkan bahwa pelanggan memiliki pola peminjaman yang bervariasi terkait kapan terakhir kali mereka menggunakan layanan.\n",
        "\n",
        "#### `Frequency & Monetary`:\n",
        "- Sebagian besar pelanggan memiliki jumlah hari peminjaman yang cukup tinggi dan konsisten dalam seminggu.\n",
        "- Pelanggan yang lebih sering menggunakan sepeda juga memiliki total peminjaman `monetary` yang lebih tinggi.\n",
        "\n",
        "### Conclusion pertanyaan 3: Bagaimana pengaruh cuaca dan musim terhadap jumlah peminjaman sepeda?\n",
        "\n",
        "#### `Cuaca`:\n",
        "-\tSaat kondisi cuaca lebih cerah `kategori 1 & 2`, jumlah peminjaman cenderung lebih tinggi.\n",
        "-\tPada cuaca yang kurang mendukung `kategori 3`, jumlah peminjaman mengalami penurunan yang cukup signifikan.\n",
        "-\tIni menunjukkan bahwa cuaca memiliki dampak langsung terhadap keputusan pelanggan dalam menggunakan layanan.\n",
        "\n",
        "####\t`Musim`:\n",
        "- Peminjaman tertinggi terjadi pada musim semi dan panas `kategori 2 & 3`, yang kemungkinan besar disebabkan oleh kondisi cuaca yang lebih nyaman untuk bersepeda.\n",
        "-\tPada musim dingin `kategori 1`, jumlah peminjaman jauh lebih rendah, kemungkinan karena suhu yang lebih dingin dan kondisi jalan yang kurang mendukung.\n",
        "\n",
        "Kesimpulannya, baik cuaca maupun musim memiliki peran penting dalam menentukan jumlah peminjaman sepeda\n",
        "\n",
        "### Conclusion pertanyaan 4: Apakah ada perbedaan pola peminjaman antara hari kerja dan akhir pekan?\n",
        "\n",
        "#### `Weekdays`:\n",
        "- Pola peminjaman didominasi oleh pelanggan terdaftar, dengan dua puncak utama pada pagi (08:00) dan sore (17:00-18:00), sesuai dengan waktu perjalanan ke dan dari tempat kerja/sekolah.\n",
        "- Aktivitas peminjaman cenderung lebih rendah di luar jam sibuk.\n",
        "\n",
        "#### `Weekends`:\n",
        "-\tPola peminjaman lebih stabil sepanjang hari, tanpa puncak yang jelas.\n",
        "-\tPuncak peminjaman tertinggi terjadi pada siang hingga sore hari, yang mengindikasikan bahwa penggunaan sepeda lebih banyak untuk tujuan rekreasi dibanding transportasi rutin."
      ]
    }
  ],
  "metadata": {
    "kernelspec": {
      "display_name": "Python 3",
      "language": "python",
      "name": "python3"
    },
    "language_info": {
      "name": "python",
      "version": "3.8.0 (tags/v3.8.0:fa919fd, Oct 14 2019, 19:21:23) [MSC v.1916 32 bit (Intel)]"
    },
    "orig_nbformat": 4,
    "vscode": {
      "interpreter": {
        "hash": "972b3bf27e332e87b5379f2791f6ef9dfc79c71018c370b0d7423235e20fe4d7"
      }
    },
    "colab": {
      "provenance": [],
      "collapsed_sections": [
        "855HfLNCoCIT",
        "msC6dwbsp-ck",
        "MW7WF2kr8DC1",
        "5XM61vsKAVHq"
      ]
    }
  },
  "nbformat": 4,
  "nbformat_minor": 0
}